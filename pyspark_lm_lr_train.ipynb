{
 "cells": [
  {
   "cell_type": "code",
   "execution_count": 28,
   "id": "dd030b07-eb8c-4324-ba26-8de9015bc265",
   "metadata": {},
   "outputs": [],
   "source": [
    "import os\n",
    "import py4j\n",
    "from pdicommon import config\n",
    "import pyspark\n",
    "from pyspark import SparkConf\n",
    "from pyspark.sql import SparkSession, SQLContext\n",
    "\n",
    "\n",
    "# import boto3\n",
    "import pandas as pd\n",
    "from datetime import datetime \n",
    "from datetime import timedelta\n",
    "from pyspark import SparkContext, HiveContext\n",
    "from pyspark.sql.functions import *\n",
    "import numpy as np\n",
    "from pyspark.sql.types import StringType,BooleanType,DateType, IntegerType, DoubleType\n",
    "from pyspark.sql.window import Window\n",
    "\n",
    "import time\n",
    "import re\n",
    "# import h2o\n",
    "# from h2o.estimators.gbm import H2OGradientBoostingEstimator\n",
    "# from h2o.estimators.glm import H2OGeneralizedLinearEstimator\n",
    "# from h2o.estimators import H2ORandomForestEstimator\n",
    "# from h2o.grid.grid_search import H2OGridSearch\n",
    "# import tempfile\n",
    "# from os import listdir\n",
    "# # import matplotlib.pyplot as plt\n",
    "# import sklearn.metrics as metrics\n",
    "\n",
    "# import pyarrow.parquet as pq\n",
    "# import s3fs\n",
    "\n",
    "# import requests\n",
    "# import tabulate\n",
    "# import future\n"
   ]
  },
  {
   "cell_type": "code",
   "execution_count": 2,
   "id": "7c0e2e36-6fe6-4e21-90e8-ab9d18d66c04",
   "metadata": {},
   "outputs": [
    {
     "name": "stderr",
     "output_type": "stream",
     "text": [
      "Warning: Ignoring non-Spark config property: fs.s3a.connection.ssl.enabled\n",
      "Warning: Ignoring non-Spark config property: com.amazonaws.services.s3a.enableV4\n"
     ]
    },
    {
     "name": "stdout",
     "output_type": "stream",
     "text": [
      "2022-05-13 03:40:10,810 WARN  [main] util.NativeCodeLoader (NativeCodeLoader.java:<clinit>(60)) - Unable to load native-hadoop library for your platform... using builtin-java classes where applicable\n"
     ]
    },
    {
     "name": "stderr",
     "output_type": "stream",
     "text": [
      "Setting default log level to \"WARN\".\n",
      "To adjust logging level use sc.setLogLevel(newLevel). For SparkR, use setLogLevel(newLevel).\n"
     ]
    }
   ],
   "source": [
    "config.load('we-offshore')\n",
    "conf = SparkConf().set(\"spark.hadoop.fs.s3a.endpoint\",'https://s3api-core.uhc.com')\\\n",
    "            .set(\"spark.hadoop.fs.s3a.impl\",\"org.apache.hadoop.fs.s3a.S3AFileSystem\")\\\n",
    "            .set(\"spark.hadoop.fs.s3a.access.key\",'pQffiGbavztAv6oHYubm')\\\n",
    "            .set(\"spark.hadoop.fs.s3a.secret.key\", 'Mb8uUAIn58YWsalinBwDrkShBjNbv0zXiwa9jFR6')\\\n",
    "            .set(\"com.amazonaws.services.s3a.enableV4\", \"true\")\\\n",
    "            .set(\"spark.hadoop.fs.s3a.path.style.access\",\"true\")\\\n",
    "            .set(\"spark.hadoop.s3a.connection.ssl.enabled\",\"false\")\\\n",
    "            .set(\"fs.s3a.connection.ssl.enabled\",\"true\")\\\n",
    "            .set(\"spark.driver.memory\", \"64g\")\\\n",
    "            .set(\"spark.executor.memory\", \"8g\")\\\n",
    "            .set(\"spark.executor.cores\", \"4\")\\\n",
    "            .set(\"spark.executor.instances\", \"4\")\\\n",
    "            .set(\"spark.kubernetes.executor.limit.cores\", \"4\")\\\n",
    "            .set(\"spark.kubernetes.executor.request.cores\", \"2500m\")\\\n",
    "            .set(\"spark.driver.maxResultSize\",\"64g\")\\\n",
    "            .set(\"spark.executor.memoryOverhead\",\"4096\")\\\n",
    "            .set(\"spark.sql.broadcastTimeout\", \"36000\")\\\n",
    "            .set( \"spark.sql.crossJoin.enabled\" , \"true\" )\n",
    "            \n",
    "\n",
    "spark = SparkSession.builder.appName(\"generic_model_uhc_data_2\")\\\n",
    "            .config(conf = conf)\\\n",
    "            .getOrCreate()"
   ]
  },
  {
   "cell_type": "code",
   "execution_count": null,
   "id": "cda21d5a-06bf-4ca1-80c2-fa1a7e6a0b99",
   "metadata": {},
   "outputs": [],
   "source": []
  },
  {
   "cell_type": "code",
   "execution_count": 3,
   "id": "c369f770-ea69-46c7-a30c-9f0cf1c09c47",
   "metadata": {},
   "outputs": [],
   "source": [
    "# data = spark.read.parquet(\"s3a://as-bucket/ADS_1/ads_with_risk.parquet\")\n",
    "# data.count()"
   ]
  },
  {
   "cell_type": "code",
   "execution_count": 4,
   "id": "d880bd2e-e907-4cc8-a42c-44535c5e15d4",
   "metadata": {},
   "outputs": [
    {
     "name": "stdout",
     "output_type": "stream",
     "text": [
      "2022-05-12 15:09:02,084 WARN  [Thread-4] impl.MetricsConfig (MetricsConfig.java:loadFirst(136)) - Cannot locate configuration: tried hadoop-metrics2-s3a-file-system.properties,hadoop-metrics2.properties\n"
     ]
    },
    {
     "name": "stderr",
     "output_type": "stream",
     "text": [
      "[Stage 1:=================================================>         (5 + 1) / 6]\r"
     ]
    },
    {
     "name": "stdout",
     "output_type": "stream",
     "text": [
      "10938215\n"
     ]
    },
    {
     "name": "stderr",
     "output_type": "stream",
     "text": [
      "                                                                                \r"
     ]
    }
   ],
   "source": [
    "train_df = spark.read.parquet(\"s3a://as-bucket/model_data/train_data.parquet/*.parquet\", header=True)\n",
    "print(train_df.count())\n"
   ]
  },
  {
   "cell_type": "code",
   "execution_count": 5,
   "id": "7881a4d9-b6ba-4a63-af11-a2de41546060",
   "metadata": {},
   "outputs": [
    {
     "name": "stderr",
     "output_type": "stream",
     "text": [
      "[Stage 5:============================================>              (3 + 1) / 4]\r"
     ]
    },
    {
     "name": "stdout",
     "output_type": "stream",
     "text": [
      "1481409\n"
     ]
    },
    {
     "name": "stderr",
     "output_type": "stream",
     "text": [
      "                                                                                \r"
     ]
    }
   ],
   "source": [
    "valid_df = spark.read.parquet(\"s3a://as-bucket/model_data/valid_data.parquet/*.parquet\", header=True)\n",
    "print(valid_df.count())"
   ]
  },
  {
   "cell_type": "code",
   "execution_count": 6,
   "id": "7ab22144-ecb5-49e3-badc-c8d868763fea",
   "metadata": {},
   "outputs": [
    {
     "name": "stderr",
     "output_type": "stream",
     "text": [
      "[Stage 9:============================================>              (3 + 1) / 4]\r"
     ]
    },
    {
     "name": "stdout",
     "output_type": "stream",
     "text": [
      "2737089\n"
     ]
    },
    {
     "name": "stderr",
     "output_type": "stream",
     "text": [
      "                                                                                \r"
     ]
    }
   ],
   "source": [
    "test_df = spark.read.parquet(\"s3a://as-bucket/model_data/test_data.parquet/*.parquet\", header=True)\n",
    "print(test_df.count())"
   ]
  },
  {
   "cell_type": "code",
   "execution_count": 7,
   "id": "781343f3-1ca9-4829-a931-331f8226d997",
   "metadata": {},
   "outputs": [
    {
     "name": "stderr",
     "output_type": "stream",
     "text": [
      "                                                                                \r"
     ]
    },
    {
     "name": "stdout",
     "output_type": "stream",
     "text": [
      "2022-05-12 15:10:31,022 WARN  [Thread-4] util.package (Logging.scala:logWarning(69)) - Truncated the string representation of a plan since it was too large. This behavior can be adjusted by setting 'spark.sql.debug.maxToStringFields'.\n"
     ]
    }
   ],
   "source": [
    "numeric_features = [t[0] for t in train_df.dtypes if t[1] in ['int', 'double']]\n",
    "train_df.select(numeric_features).describe().toPandas().to_csv('desc_2.csv')"
   ]
  },
  {
   "cell_type": "code",
   "execution_count": 8,
   "id": "ce26a028-2fdf-4c49-bfbe-cdac96989954",
   "metadata": {},
   "outputs": [
    {
     "name": "stderr",
     "output_type": "stream",
     "text": [
      "[Stage 15:==============================>                          (7 + 6) / 13]\r"
     ]
    },
    {
     "name": "stdout",
     "output_type": "stream",
     "text": [
      "+------+-------+\n",
      "|Target|  count|\n",
      "+------+-------+\n",
      "|     1|4559908|\n",
      "|     0|6378307|\n",
      "+------+-------+\n",
      "\n"
     ]
    },
    {
     "name": "stderr",
     "output_type": "stream",
     "text": [
      "                                                                                \r"
     ]
    }
   ],
   "source": [
    "train_df.groupBy('Target').count().show()"
   ]
  },
  {
   "cell_type": "code",
   "execution_count": 9,
   "id": "6a7fa126-1659-4898-97b6-41c76a84f6c0",
   "metadata": {},
   "outputs": [],
   "source": [
    "features = [\n",
    "    # 'r_bill_fein',\n",
    "    #         'hdr_pay_to_prov_npi_id',\n",
    "    #         'li_proc_cd',\n",
    "    #         'hdr_diag_prim_cd',\n",
    "    #         'hdr_clm_tcn',\n",
    "    #         'batch_id',\n",
    "    #         'line_num',\n",
    "'Target',\n",
    "'claim_srvc_days',\n",
    "'diff_batch_srvc_dt',\n",
    "'mod_59_ohe',\n",
    "'billed_amt_per_unit',\n",
    "'upcoded',\n",
    "'unbundled_0',\n",
    "'unbundled_1',\n",
    "'plc_11',\n",
    "'plc_12',\n",
    "'plc_21',\n",
    "'plc_22',\n",
    "'plc_23',\n",
    "'plc_24',\n",
    "'plc_49',\n",
    "'plc_81',\n",
    "# 'prov_spec_Certified_Acupuncturist',\n",
    "'prov_spec_Chiropractor',\n",
    "# 'prov_spec_Clinical_Lab_MD_Directed',\n",
    "'prov_spec_Clinical_Psychology',\n",
    "'prov_spec_Emergency_Medicine',\n",
    "'prov_spec_Gastroenterology',\n",
    "'prov_spec_Independent_Lab_Non-MD',\n",
    "'prov_spec_Occupational_Therapist',\n",
    "'prov_spec_Oncology',\n",
    "'prov_spec_Pathology',\n",
    "# 'prov_spec_Pathology_Anatomic_&_Clinical',\n",
    "'prov_spec_Pediatrics',\n",
    "'prov_spec_Special_Provider_Agreement',\n",
    "'proc_mod_HPV_HIGH-RISK_TYPES__REFERENCE_OUTSIDE_LABORATORY',\n",
    "'proc_mod_L_HRT_ARTERY/VENTRICLE_ANGIO__PROFESSIONAL_COMPONENT',\n",
    "'proc_mod_MANUAL_THERAPY_1/>_REGIONS__DISTINCT_PROCEDURAL_SERVICE',\n",
    "'proc_mod_MEASURE_BLOOD_OXYGEN_LEVEL__DISTINCT_PROCEDURAL_SERVICE',\n",
    "'proc_mod_OFFICE_O/P_EST_SF_10-19_MIN__SIGNIFICANT_SEPARATELY_IDENTIFIABLE_EVAL_&_MGMT_SVC_SAME_PHYSCN_AND_DAY',\n",
    "'proc_mod_PER_PM_REEVAL_EST_PAT_INFANT__SIGNIFICANT_SEPARATELY_IDENTIFIABLE_EVAL_&_MGMT_SVC_SAME_PHYSCN_AND_DAY',\n",
    "'proc_mod_THER/PROPH/DIAG_INJ_IV_PUSH__DISTINCT_PROCEDURAL_SERVICE',\n",
    "'proc_mod_UNKNOWN_PROCEDURE__NEW_EQUIPMENT',\n",
    "'diag_risk',\n",
    "'proc_risk',\n",
    "'prov_risk']"
   ]
  },
  {
   "cell_type": "code",
   "execution_count": 10,
   "id": "f3a8f8dc-6ef3-4dae-a877-f99cbeb10009",
   "metadata": {},
   "outputs": [
    {
     "data": {
      "text/plain": [
       "37"
      ]
     },
     "execution_count": 10,
     "metadata": {},
     "output_type": "execute_result"
    }
   ],
   "source": [
    "len(features)"
   ]
  },
  {
   "cell_type": "code",
   "execution_count": 11,
   "id": "c997c206-7e17-44d6-a924-21ecf88f210d",
   "metadata": {},
   "outputs": [],
   "source": [
    "train_data =  train_df.select(features)\n",
    "valid_data =  valid_df.select(features)\n",
    "test_data  =  test_df.select(features)"
   ]
  },
  {
   "cell_type": "code",
   "execution_count": 12,
   "id": "914b5251-3de5-4350-8c0f-2afa7a5b9e75",
   "metadata": {},
   "outputs": [],
   "source": [
    "# # from pyspark.sql.functions import udf\n",
    "# y_udf = udf(lambda y: \"No\" if y==0 else \"yes\", StringType())\n",
    "\n",
    "# df=df.withColumn(\"Target_val\", y_udf('Target')).drop(\"Target\")"
   ]
  },
  {
   "cell_type": "code",
   "execution_count": 13,
   "id": "83e0cf4f-8561-4e10-9c3c-f97f33f28c7b",
   "metadata": {},
   "outputs": [],
   "source": [
    "train_data = train_data.withColumn('Target', col('Target').cast(StringType()))\n",
    "valid_data = valid_data.withColumn('Target', col('Target').cast(StringType()))\n",
    "test_data = test_data.withColumn('Target', col('Target').cast(StringType()))"
   ]
  },
  {
   "cell_type": "markdown",
   "id": "a88bd618-c913-4001-8ec4-800b97ec4802",
   "metadata": {},
   "source": [
    "#### Features vectorization"
   ]
  },
  {
   "cell_type": "code",
   "execution_count": 29,
   "id": "1c3063b7-2757-45f1-afbf-cf6f425b2ff2",
   "metadata": {},
   "outputs": [],
   "source": [
    "\n",
    "# import matplotlib.pyplot as plt\n",
    "import numpy as np\n",
    "# import seaborn as sns\n",
    "\n",
    "from pyspark.mllib.stat import Statistics\n",
    "from pyspark.ml.feature import VectorAssembler,StandardScaler, StringIndexer\n",
    "from pyspark.ml import Pipeline\n",
    "from sklearn.metrics import confusion_matrix"
   ]
  },
  {
   "cell_type": "code",
   "execution_count": 30,
   "id": "87660a07-4eac-4214-a050-fa59f51ca411",
   "metadata": {},
   "outputs": [],
   "source": [
    "cols = ['claim_srvc_days', 'diff_batch_srvc_dt', 'mod_59_ohe', 'billed_amt_per_unit', 'upcoded', 'unbundled_0', 'unbundled_1', 'plc_11', 'plc_12', 'plc_21', 'plc_22', 'plc_23', 'plc_24',\\\n",
    "        'plc_49', 'plc_81', 'prov_spec_Chiropractor', 'prov_spec_Clinical_Psychology', 'prov_spec_Emergency_Medicine', 'prov_spec_Gastroenterology', 'prov_spec_Independent_Lab_Non-MD',\\\n",
    "        'prov_spec_Occupational_Therapist',  'prov_spec_Oncology', 'prov_spec_Pathology', 'prov_spec_Pediatrics', 'prov_spec_Special_Provider_Agreement', 'proc_mod_HPV_HIGH-RISK_TYPES__REFERENCE_OUTSIDE_LABORATORY',\\\n",
    "        'proc_mod_L_HRT_ARTERY/VENTRICLE_ANGIO__PROFESSIONAL_COMPONENT', 'proc_mod_MANUAL_THERAPY_1/>_REGIONS__DISTINCT_PROCEDURAL_SERVICE', 'proc_mod_MEASURE_BLOOD_OXYGEN_LEVEL__DISTINCT_PROCEDURAL_SERVICE',\\\n",
    "        'proc_mod_OFFICE_O/P_EST_SF_10-19_MIN__SIGNIFICANT_SEPARATELY_IDENTIFIABLE_EVAL_&_MGMT_SVC_SAME_PHYSCN_AND_DAY', 'proc_mod_PER_PM_REEVAL_EST_PAT_INFANT__SIGNIFICANT_SEPARATELY_IDENTIFIABLE_EVAL_&_MGMT_SVC_SAME_PHYSCN_AND_DAY',\\\n",
    "        'proc_mod_THER/PROPH/DIAG_INJ_IV_PUSH__DISTINCT_PROCEDURAL_SERVICE', 'proc_mod_UNKNOWN_PROCEDURE__NEW_EQUIPMENT', 'diag_risk', 'proc_risk', 'prov_risk']\n",
    "stages = []\n",
    "# for categoricalCol in categoricalColumns:\n",
    "#     stringIndexer = StringIndexer(inputCol = categoricalCol, outputCol = categoricalCol + 'Index')\n",
    "#     encoder = OneHotEncoderEstimator(inputCols=[stringIndexer.getOutputCol()], outputCols=[categoricalCol + \"classVec\"])\n",
    "#     stages += [stringIndexer, encoder]\n",
    "label_stringIdx = StringIndexer(inputCol = 'Target', outputCol = 'label')\n",
    "stages += [label_stringIdx]\n",
    "numericCols = cols \n",
    "assemblerInputs = numericCols\n",
    "assembler = VectorAssembler(inputCols=assemblerInputs, outputCol=\"vectorized_features\")\n",
    "stages += [assembler]\n",
    "scaler = StandardScaler(inputCol=\"vectorized_features\", outputCol=\"features\")\n",
    "stages += [scaler]"
   ]
  },
  {
   "cell_type": "code",
   "execution_count": 32,
   "id": "8b765552-980d-4e20-878e-e6092257e6d0",
   "metadata": {},
   "outputs": [],
   "source": [
    "# train_data.columns"
   ]
  },
  {
   "cell_type": "code",
   "execution_count": 33,
   "id": "546bd067-46b2-47b6-b91d-bf62a0cb3942",
   "metadata": {},
   "outputs": [
    {
     "data": {
      "text/plain": [
       "[StringIndexer_ddf0b5576a18,\n",
       " VectorAssembler_12d6f517533a,\n",
       " StandardScaler_c95795abce63]"
      ]
     },
     "execution_count": 33,
     "metadata": {},
     "output_type": "execute_result"
    }
   ],
   "source": [
    "stages"
   ]
  },
  {
   "cell_type": "code",
   "execution_count": 18,
   "id": "2f2b6afd-ac19-41c1-9cd0-44e1a14fe4e8",
   "metadata": {},
   "outputs": [],
   "source": [
    "pd.set_option('display.max_colwidth', 300)\n",
    "# pd.set_option('max_columns', 12)"
   ]
  },
  {
   "cell_type": "code",
   "execution_count": 19,
   "id": "469e1a70-f748-496d-8a10-96a0c04a59b5",
   "metadata": {},
   "outputs": [
    {
     "name": "stderr",
     "output_type": "stream",
     "text": [
      "                                                                                \r"
     ]
    },
    {
     "name": "stdout",
     "output_type": "stream",
     "text": [
      "root\n",
      " |-- label: double (nullable = false)\n",
      " |-- vectorized_features: vector (nullable = true)\n",
      " |-- features: vector (nullable = true)\n",
      " |-- Target: string (nullable = true)\n",
      " |-- claim_srvc_days: integer (nullable = true)\n",
      " |-- diff_batch_srvc_dt: integer (nullable = true)\n",
      " |-- mod_59_ohe: integer (nullable = true)\n",
      " |-- billed_amt_per_unit: double (nullable = true)\n",
      " |-- upcoded: integer (nullable = true)\n",
      " |-- unbundled_0: integer (nullable = true)\n",
      " |-- unbundled_1: integer (nullable = true)\n",
      " |-- plc_11: integer (nullable = true)\n",
      " |-- plc_12: integer (nullable = true)\n",
      " |-- plc_21: integer (nullable = true)\n",
      " |-- plc_22: integer (nullable = true)\n",
      " |-- plc_23: integer (nullable = true)\n",
      " |-- plc_24: integer (nullable = true)\n",
      " |-- plc_49: integer (nullable = true)\n",
      " |-- plc_81: integer (nullable = true)\n",
      " |-- prov_spec_Chiropractor: integer (nullable = true)\n",
      " |-- prov_spec_Clinical_Psychology: integer (nullable = true)\n",
      " |-- prov_spec_Emergency_Medicine: integer (nullable = true)\n",
      " |-- prov_spec_Gastroenterology: integer (nullable = true)\n",
      " |-- prov_spec_Independent_Lab_Non-MD: integer (nullable = true)\n",
      " |-- prov_spec_Occupational_Therapist: integer (nullable = true)\n",
      " |-- prov_spec_Oncology: integer (nullable = true)\n",
      " |-- prov_spec_Pathology: integer (nullable = true)\n",
      " |-- prov_spec_Pediatrics: integer (nullable = true)\n",
      " |-- prov_spec_Special_Provider_Agreement: integer (nullable = true)\n",
      " |-- proc_mod_HPV_HIGH-RISK_TYPES__REFERENCE_OUTSIDE_LABORATORY: integer (nullable = true)\n",
      " |-- proc_mod_L_HRT_ARTERY/VENTRICLE_ANGIO__PROFESSIONAL_COMPONENT: integer (nullable = true)\n",
      " |-- proc_mod_MANUAL_THERAPY_1/>_REGIONS__DISTINCT_PROCEDURAL_SERVICE: integer (nullable = true)\n",
      " |-- proc_mod_MEASURE_BLOOD_OXYGEN_LEVEL__DISTINCT_PROCEDURAL_SERVICE: integer (nullable = true)\n",
      " |-- proc_mod_OFFICE_O/P_EST_SF_10-19_MIN__SIGNIFICANT_SEPARATELY_IDENTIFIABLE_EVAL_&_MGMT_SVC_SAME_PHYSCN_AND_DAY: integer (nullable = true)\n",
      " |-- proc_mod_PER_PM_REEVAL_EST_PAT_INFANT__SIGNIFICANT_SEPARATELY_IDENTIFIABLE_EVAL_&_MGMT_SVC_SAME_PHYSCN_AND_DAY: integer (nullable = true)\n",
      " |-- proc_mod_THER/PROPH/DIAG_INJ_IV_PUSH__DISTINCT_PROCEDURAL_SERVICE: integer (nullable = true)\n",
      " |-- proc_mod_UNKNOWN_PROCEDURE__NEW_EQUIPMENT: integer (nullable = true)\n",
      " |-- diag_risk: double (nullable = true)\n",
      " |-- proc_risk: double (nullable = true)\n",
      " |-- prov_risk: double (nullable = true)\n",
      "\n"
     ]
    }
   ],
   "source": [
    "cols = train_data.columns\n",
    "pipeline = Pipeline(stages = stages)\n",
    "pipelineModel = pipeline.fit(train_data)\n",
    "train_data_2 = pipelineModel.transform(train_data)\n",
    "selectedCols = ['label','vectorized_features','features'] + cols\n",
    "train_data_2 = train_data_2.select(selectedCols)\n",
    "train_data_2.printSchema()"
   ]
  },
  {
   "cell_type": "code",
   "execution_count": 20,
   "id": "f1eaa1ea-fe6e-416d-aa1d-2e48d744b918",
   "metadata": {},
   "outputs": [
    {
     "name": "stderr",
     "output_type": "stream",
     "text": [
      "                                                                                \r"
     ]
    },
    {
     "data": {
      "text/html": [
       "<div>\n",
       "<style scoped>\n",
       "    .dataframe tbody tr th:only-of-type {\n",
       "        vertical-align: middle;\n",
       "    }\n",
       "\n",
       "    .dataframe tbody tr th {\n",
       "        vertical-align: top;\n",
       "    }\n",
       "\n",
       "    .dataframe thead th {\n",
       "        text-align: right;\n",
       "    }\n",
       "</style>\n",
       "<table border=\"1\" class=\"dataframe\">\n",
       "  <thead>\n",
       "    <tr style=\"text-align: right;\">\n",
       "      <th></th>\n",
       "      <th>label</th>\n",
       "      <th>vectorized_features</th>\n",
       "      <th>features</th>\n",
       "      <th>Target</th>\n",
       "      <th>claim_srvc_days</th>\n",
       "      <th>diff_batch_srvc_dt</th>\n",
       "      <th>mod_59_ohe</th>\n",
       "      <th>billed_amt_per_unit</th>\n",
       "      <th>upcoded</th>\n",
       "      <th>unbundled_0</th>\n",
       "      <th>...</th>\n",
       "      <th>proc_mod_L_HRT_ARTERY/VENTRICLE_ANGIO__PROFESSIONAL_COMPONENT</th>\n",
       "      <th>proc_mod_MANUAL_THERAPY_1/&gt;_REGIONS__DISTINCT_PROCEDURAL_SERVICE</th>\n",
       "      <th>proc_mod_MEASURE_BLOOD_OXYGEN_LEVEL__DISTINCT_PROCEDURAL_SERVICE</th>\n",
       "      <th>proc_mod_OFFICE_O/P_EST_SF_10-19_MIN__SIGNIFICANT_SEPARATELY_IDENTIFIABLE_EVAL_&amp;_MGMT_SVC_SAME_PHYSCN_AND_DAY</th>\n",
       "      <th>proc_mod_PER_PM_REEVAL_EST_PAT_INFANT__SIGNIFICANT_SEPARATELY_IDENTIFIABLE_EVAL_&amp;_MGMT_SVC_SAME_PHYSCN_AND_DAY</th>\n",
       "      <th>proc_mod_THER/PROPH/DIAG_INJ_IV_PUSH__DISTINCT_PROCEDURAL_SERVICE</th>\n",
       "      <th>proc_mod_UNKNOWN_PROCEDURE__NEW_EQUIPMENT</th>\n",
       "      <th>diag_risk</th>\n",
       "      <th>proc_risk</th>\n",
       "      <th>prov_risk</th>\n",
       "    </tr>\n",
       "  </thead>\n",
       "  <tbody>\n",
       "    <tr>\n",
       "      <th>0</th>\n",
       "      <td>0.0</td>\n",
       "      <td>(0.0, 104.0, 0.0, 1.6717324222015977, 0.0, 0.0, 0.0, 0.0, 0.0, 0.0, 0.0, 0.0, 0.0, 0.0, 0.0, 0.0, 0.0, 0.0, 0.0, 0.0, 0.0, 0.0, 0.0, 0.0, 0.0, 0.0, 0.0, 0.0, 0.0, 0.0, 0.0, 0.0, 0.0, 0.6791658768112461, 0.7743547306861278, 0.6929701226881594)</td>\n",
       "      <td>(0.0, 2.0885698479182584, 0.0, 0.2115094941480325, 0.0, 0.0, 0.0, 0.0, 0.0, 0.0, 0.0, 0.0, 0.0, 0.0, 0.0, 0.0, 0.0, 0.0, 0.0, 0.0, 0.0, 0.0, 0.0, 0.0, 0.0, 0.0, 0.0, 0.0, 0.0, 0.0, 0.0, 0.0, 0.0, 5.904732040594621, 3.542901614426638, 3.2254168746167435)</td>\n",
       "      <td>0</td>\n",
       "      <td>0</td>\n",
       "      <td>104</td>\n",
       "      <td>0</td>\n",
       "      <td>1.671732</td>\n",
       "      <td>0</td>\n",
       "      <td>0</td>\n",
       "      <td>...</td>\n",
       "      <td>0</td>\n",
       "      <td>0</td>\n",
       "      <td>0</td>\n",
       "      <td>0</td>\n",
       "      <td>0</td>\n",
       "      <td>0</td>\n",
       "      <td>0</td>\n",
       "      <td>0.679166</td>\n",
       "      <td>0.774355</td>\n",
       "      <td>0.692970</td>\n",
       "    </tr>\n",
       "    <tr>\n",
       "      <th>1</th>\n",
       "      <td>1.0</td>\n",
       "      <td>(127.0, 6.0, 0.0, 1.0585918074098126, 0.0, 0.0, 0.0, 1.0, 0.0, 0.0, 0.0, 0.0, 0.0, 0.0, 0.0, 1.0, 0.0, 0.0, 0.0, 0.0, 0.0, 0.0, 0.0, 0.0, 0.0, 0.0, 0.0, 0.0, 0.0, 0.0, 0.0, 0.0, 0.0, 0.7866139211317161, 0.6641439571481443, 0.9635966116218978)</td>\n",
       "      <td>(0.009958754488939044, 0.12049441430297644, 0.0, 0.13393424373479074, 0.0, 0.0, 0.0, 2.008928456684171, 0.0, 0.0, 0.0, 0.0, 0.0, 0.0, 0.0, 5.813755476321053, 0.0, 0.0, 0.0, 0.0, 0.0, 0.0, 0.0, 0.0, 0.0, 0.0, 0.0, 0.0, 0.0, 0.0, 0.0, 0.0, 0.0, 6.83889544847537, 3.038654772479986, 4.485042961725789)</td>\n",
       "      <td>1</td>\n",
       "      <td>127</td>\n",
       "      <td>6</td>\n",
       "      <td>0</td>\n",
       "      <td>1.058592</td>\n",
       "      <td>0</td>\n",
       "      <td>0</td>\n",
       "      <td>...</td>\n",
       "      <td>0</td>\n",
       "      <td>0</td>\n",
       "      <td>0</td>\n",
       "      <td>0</td>\n",
       "      <td>0</td>\n",
       "      <td>0</td>\n",
       "      <td>0</td>\n",
       "      <td>0.786614</td>\n",
       "      <td>0.664144</td>\n",
       "      <td>0.963597</td>\n",
       "    </tr>\n",
       "    <tr>\n",
       "      <th>2</th>\n",
       "      <td>1.0</td>\n",
       "      <td>(2.0, 181.0, 0.0, 1.7226016141015086, 0.0, 0.0, 0.0, 1.0, 0.0, 0.0, 0.0, 0.0, 0.0, 0.0, 0.0, 0.0, 0.0, 0.0, 0.0, 0.0, 0.0, 0.0, 0.0, 0.0, 0.0, 0.0, 0.0, 0.0, 0.0, 0.0, 0.0, 0.0, 0.0, 0.687094443309875, 0.8635445935553455, 0.6034660374408587)</td>\n",
       "      <td>(0.00015683077935337077, 3.634914831473123, 0.0, 0.2179455223685654, 0.0, 0.0, 0.0, 2.008928456684171, 0.0, 0.0, 0.0, 0.0, 0.0, 0.0, 0.0, 0.0, 0.0, 0.0, 0.0, 0.0, 0.0, 0.0, 0.0, 0.0, 0.0, 0.0, 0.0, 0.0, 0.0, 0.0, 0.0, 0.0, 0.0, 5.973663743789496, 3.9509715811069652, 2.8088217322693287)</td>\n",
       "      <td>1</td>\n",
       "      <td>2</td>\n",
       "      <td>181</td>\n",
       "      <td>0</td>\n",
       "      <td>1.722602</td>\n",
       "      <td>0</td>\n",
       "      <td>0</td>\n",
       "      <td>...</td>\n",
       "      <td>0</td>\n",
       "      <td>0</td>\n",
       "      <td>0</td>\n",
       "      <td>0</td>\n",
       "      <td>0</td>\n",
       "      <td>0</td>\n",
       "      <td>0</td>\n",
       "      <td>0.687094</td>\n",
       "      <td>0.863545</td>\n",
       "      <td>0.603466</td>\n",
       "    </tr>\n",
       "  </tbody>\n",
       "</table>\n",
       "<p>3 rows × 40 columns</p>\n",
       "</div>"
      ],
      "text/plain": [
       "   label  \\\n",
       "0    0.0   \n",
       "1    1.0   \n",
       "2    1.0   \n",
       "\n",
       "                                                                                                                                                                                                                                  vectorized_features  \\\n",
       "0  (0.0, 104.0, 0.0, 1.6717324222015977, 0.0, 0.0, 0.0, 0.0, 0.0, 0.0, 0.0, 0.0, 0.0, 0.0, 0.0, 0.0, 0.0, 0.0, 0.0, 0.0, 0.0, 0.0, 0.0, 0.0, 0.0, 0.0, 0.0, 0.0, 0.0, 0.0, 0.0, 0.0, 0.0, 0.6791658768112461, 0.7743547306861278, 0.6929701226881594)   \n",
       "1  (127.0, 6.0, 0.0, 1.0585918074098126, 0.0, 0.0, 0.0, 1.0, 0.0, 0.0, 0.0, 0.0, 0.0, 0.0, 0.0, 1.0, 0.0, 0.0, 0.0, 0.0, 0.0, 0.0, 0.0, 0.0, 0.0, 0.0, 0.0, 0.0, 0.0, 0.0, 0.0, 0.0, 0.0, 0.7866139211317161, 0.6641439571481443, 0.9635966116218978)   \n",
       "2   (2.0, 181.0, 0.0, 1.7226016141015086, 0.0, 0.0, 0.0, 1.0, 0.0, 0.0, 0.0, 0.0, 0.0, 0.0, 0.0, 0.0, 0.0, 0.0, 0.0, 0.0, 0.0, 0.0, 0.0, 0.0, 0.0, 0.0, 0.0, 0.0, 0.0, 0.0, 0.0, 0.0, 0.0, 0.687094443309875, 0.8635445935553455, 0.6034660374408587)   \n",
       "\n",
       "                                                                                                                                                                                                                                                                                                     features  \\\n",
       "0                                               (0.0, 2.0885698479182584, 0.0, 0.2115094941480325, 0.0, 0.0, 0.0, 0.0, 0.0, 0.0, 0.0, 0.0, 0.0, 0.0, 0.0, 0.0, 0.0, 0.0, 0.0, 0.0, 0.0, 0.0, 0.0, 0.0, 0.0, 0.0, 0.0, 0.0, 0.0, 0.0, 0.0, 0.0, 0.0, 5.904732040594621, 3.542901614426638, 3.2254168746167435)   \n",
       "1  (0.009958754488939044, 0.12049441430297644, 0.0, 0.13393424373479074, 0.0, 0.0, 0.0, 2.008928456684171, 0.0, 0.0, 0.0, 0.0, 0.0, 0.0, 0.0, 5.813755476321053, 0.0, 0.0, 0.0, 0.0, 0.0, 0.0, 0.0, 0.0, 0.0, 0.0, 0.0, 0.0, 0.0, 0.0, 0.0, 0.0, 0.0, 6.83889544847537, 3.038654772479986, 4.485042961725789)   \n",
       "2              (0.00015683077935337077, 3.634914831473123, 0.0, 0.2179455223685654, 0.0, 0.0, 0.0, 2.008928456684171, 0.0, 0.0, 0.0, 0.0, 0.0, 0.0, 0.0, 0.0, 0.0, 0.0, 0.0, 0.0, 0.0, 0.0, 0.0, 0.0, 0.0, 0.0, 0.0, 0.0, 0.0, 0.0, 0.0, 0.0, 0.0, 5.973663743789496, 3.9509715811069652, 2.8088217322693287)   \n",
       "\n",
       "  Target  claim_srvc_days  diff_batch_srvc_dt  mod_59_ohe  \\\n",
       "0      0                0                 104           0   \n",
       "1      1              127                   6           0   \n",
       "2      1                2                 181           0   \n",
       "\n",
       "   billed_amt_per_unit  upcoded  unbundled_0  ...  \\\n",
       "0             1.671732        0            0  ...   \n",
       "1             1.058592        0            0  ...   \n",
       "2             1.722602        0            0  ...   \n",
       "\n",
       "   proc_mod_L_HRT_ARTERY/VENTRICLE_ANGIO__PROFESSIONAL_COMPONENT  \\\n",
       "0                                                              0   \n",
       "1                                                              0   \n",
       "2                                                              0   \n",
       "\n",
       "   proc_mod_MANUAL_THERAPY_1/>_REGIONS__DISTINCT_PROCEDURAL_SERVICE  \\\n",
       "0                                                                 0   \n",
       "1                                                                 0   \n",
       "2                                                                 0   \n",
       "\n",
       "   proc_mod_MEASURE_BLOOD_OXYGEN_LEVEL__DISTINCT_PROCEDURAL_SERVICE  \\\n",
       "0                                                                 0   \n",
       "1                                                                 0   \n",
       "2                                                                 0   \n",
       "\n",
       "   proc_mod_OFFICE_O/P_EST_SF_10-19_MIN__SIGNIFICANT_SEPARATELY_IDENTIFIABLE_EVAL_&_MGMT_SVC_SAME_PHYSCN_AND_DAY  \\\n",
       "0                                                                                                              0   \n",
       "1                                                                                                              0   \n",
       "2                                                                                                              0   \n",
       "\n",
       "   proc_mod_PER_PM_REEVAL_EST_PAT_INFANT__SIGNIFICANT_SEPARATELY_IDENTIFIABLE_EVAL_&_MGMT_SVC_SAME_PHYSCN_AND_DAY  \\\n",
       "0                                                                                                               0   \n",
       "1                                                                                                               0   \n",
       "2                                                                                                               0   \n",
       "\n",
       "   proc_mod_THER/PROPH/DIAG_INJ_IV_PUSH__DISTINCT_PROCEDURAL_SERVICE  \\\n",
       "0                                                                  0   \n",
       "1                                                                  0   \n",
       "2                                                                  0   \n",
       "\n",
       "   proc_mod_UNKNOWN_PROCEDURE__NEW_EQUIPMENT  diag_risk  proc_risk  prov_risk  \n",
       "0                                          0   0.679166   0.774355   0.692970  \n",
       "1                                          0   0.786614   0.664144   0.963597  \n",
       "2                                          0   0.687094   0.863545   0.603466  \n",
       "\n",
       "[3 rows x 40 columns]"
      ]
     },
     "execution_count": 20,
     "metadata": {},
     "output_type": "execute_result"
    }
   ],
   "source": [
    "\n",
    "train_data_2.limit(3).toPandas().head()"
   ]
  },
  {
   "cell_type": "code",
   "execution_count": 21,
   "id": "cdddea93-f607-45fd-981f-fbb32bf14b3f",
   "metadata": {},
   "outputs": [
    {
     "data": {
      "text/plain": [
       "40"
      ]
     },
     "execution_count": 21,
     "metadata": {},
     "output_type": "execute_result"
    }
   ],
   "source": [
    "len(train_data_2.columns)"
   ]
  },
  {
   "cell_type": "code",
   "execution_count": 22,
   "id": "dfab8b9e-dddf-4b54-a01f-9e616e828a67",
   "metadata": {},
   "outputs": [
    {
     "name": "stderr",
     "output_type": "stream",
     "text": [
      "                                                                                \r"
     ]
    },
    {
     "name": "stdout",
     "output_type": "stream",
     "text": [
      "root\n",
      " |-- label: double (nullable = false)\n",
      " |-- vectorized_features: vector (nullable = true)\n",
      " |-- features: vector (nullable = true)\n",
      " |-- Target: string (nullable = true)\n",
      " |-- claim_srvc_days: integer (nullable = true)\n",
      " |-- diff_batch_srvc_dt: integer (nullable = true)\n",
      " |-- mod_59_ohe: integer (nullable = true)\n",
      " |-- billed_amt_per_unit: double (nullable = true)\n",
      " |-- upcoded: integer (nullable = true)\n",
      " |-- unbundled_0: integer (nullable = true)\n",
      " |-- unbundled_1: integer (nullable = true)\n",
      " |-- plc_11: integer (nullable = true)\n",
      " |-- plc_12: integer (nullable = true)\n",
      " |-- plc_21: integer (nullable = true)\n",
      " |-- plc_22: integer (nullable = true)\n",
      " |-- plc_23: integer (nullable = true)\n",
      " |-- plc_24: integer (nullable = true)\n",
      " |-- plc_49: integer (nullable = true)\n",
      " |-- plc_81: integer (nullable = true)\n",
      " |-- prov_spec_Chiropractor: integer (nullable = true)\n",
      " |-- prov_spec_Clinical_Psychology: integer (nullable = true)\n",
      " |-- prov_spec_Emergency_Medicine: integer (nullable = true)\n",
      " |-- prov_spec_Gastroenterology: integer (nullable = true)\n",
      " |-- prov_spec_Independent_Lab_Non-MD: integer (nullable = true)\n",
      " |-- prov_spec_Occupational_Therapist: integer (nullable = true)\n",
      " |-- prov_spec_Oncology: integer (nullable = true)\n",
      " |-- prov_spec_Pathology: integer (nullable = true)\n",
      " |-- prov_spec_Pediatrics: integer (nullable = true)\n",
      " |-- prov_spec_Special_Provider_Agreement: integer (nullable = true)\n",
      " |-- proc_mod_HPV_HIGH-RISK_TYPES__REFERENCE_OUTSIDE_LABORATORY: integer (nullable = true)\n",
      " |-- proc_mod_L_HRT_ARTERY/VENTRICLE_ANGIO__PROFESSIONAL_COMPONENT: integer (nullable = true)\n",
      " |-- proc_mod_MANUAL_THERAPY_1/>_REGIONS__DISTINCT_PROCEDURAL_SERVICE: integer (nullable = true)\n",
      " |-- proc_mod_MEASURE_BLOOD_OXYGEN_LEVEL__DISTINCT_PROCEDURAL_SERVICE: integer (nullable = true)\n",
      " |-- proc_mod_OFFICE_O/P_EST_SF_10-19_MIN__SIGNIFICANT_SEPARATELY_IDENTIFIABLE_EVAL_&_MGMT_SVC_SAME_PHYSCN_AND_DAY: integer (nullable = true)\n",
      " |-- proc_mod_PER_PM_REEVAL_EST_PAT_INFANT__SIGNIFICANT_SEPARATELY_IDENTIFIABLE_EVAL_&_MGMT_SVC_SAME_PHYSCN_AND_DAY: integer (nullable = true)\n",
      " |-- proc_mod_THER/PROPH/DIAG_INJ_IV_PUSH__DISTINCT_PROCEDURAL_SERVICE: integer (nullable = true)\n",
      " |-- proc_mod_UNKNOWN_PROCEDURE__NEW_EQUIPMENT: integer (nullable = true)\n",
      " |-- diag_risk: double (nullable = true)\n",
      " |-- proc_risk: double (nullable = true)\n",
      " |-- prov_risk: double (nullable = true)\n",
      "\n"
     ]
    }
   ],
   "source": [
    "cols = valid_data.columns\n",
    "pipeline = Pipeline(stages = stages)\n",
    "pipelineModel = pipeline.fit(valid_data)\n",
    "valid_data_2 = pipelineModel.transform(valid_data)\n",
    "selectedCols = ['label', 'vectorized_features','features'] + cols\n",
    "valid_data_2 = valid_data_2.select(selectedCols)\n",
    "valid_data_2.printSchema()"
   ]
  },
  {
   "cell_type": "code",
   "execution_count": 23,
   "id": "12f0b573-21e9-40d6-a46c-23ce70c28501",
   "metadata": {},
   "outputs": [
    {
     "name": "stderr",
     "output_type": "stream",
     "text": [
      "                                                                                \r"
     ]
    }
   ],
   "source": [
    "from pyspark.ml.classification import LogisticRegression\n",
    "lr = LogisticRegression(featuresCol = 'features', labelCol = 'label', maxIter=5)\n",
    "lrModel = lr.fit(train_data_2)\n",
    "predictions = lrModel.transform(valid_data_2)\n",
    "#predictions_train = lrModel.transform(train)\n"
   ]
  },
  {
   "cell_type": "code",
   "execution_count": 24,
   "id": "d6d3d1d2-d457-4bcb-86c7-9ace41cf339a",
   "metadata": {},
   "outputs": [
    {
     "data": {
      "text/html": [
       "<div>\n",
       "<style scoped>\n",
       "    .dataframe tbody tr th:only-of-type {\n",
       "        vertical-align: middle;\n",
       "    }\n",
       "\n",
       "    .dataframe tbody tr th {\n",
       "        vertical-align: top;\n",
       "    }\n",
       "\n",
       "    .dataframe thead th {\n",
       "        text-align: right;\n",
       "    }\n",
       "</style>\n",
       "<table border=\"1\" class=\"dataframe\">\n",
       "  <thead>\n",
       "    <tr style=\"text-align: right;\">\n",
       "      <th></th>\n",
       "      <th>label</th>\n",
       "      <th>features</th>\n",
       "      <th>rawPrediction</th>\n",
       "      <th>prediction</th>\n",
       "      <th>probability</th>\n",
       "    </tr>\n",
       "  </thead>\n",
       "  <tbody>\n",
       "    <tr>\n",
       "      <th>0</th>\n",
       "      <td>1.0</td>\n",
       "      <td>(0.010839484031602209, 0.41865120606704553, 0.0, 0.4171154573132441, 2.720664103432804, 0.0, 0.0, 2.0000000267350644, 0.0, 0.0, 0.0, 0.0, 0.0, 0.0, 0.0, 5.3993476572927905, 0.0, 0.0, 0.0, 0.0, 0.0, 0.0, 0.0, 0.0, 0.0, 0.0, 0.0, 0.0, 0.0, 0.0, 0.0, 0.0, 0.0, 6.37640208723222, 3.04322716047391, 3....</td>\n",
       "      <td>[-1.2214074054404116, 1.2214074054404116]</td>\n",
       "      <td>1.0</td>\n",
       "      <td>[0.227688868199236, 0.772311131800764]</td>\n",
       "    </tr>\n",
       "    <tr>\n",
       "      <th>1</th>\n",
       "      <td>0.0</td>\n",
       "      <td>(0.0, 2.131315230886777, 0.0, 0.15780767520195826, 0.0, 0.0, 0.0, 2.0000000267350644, 0.0, 0.0, 0.0, 0.0, 0.0, 0.0, 0.0, 0.0, 0.0, 0.0, 0.0, 0.0, 0.0, 0.0, 0.0, 0.0, 0.0, 0.0, 0.0, 0.0, 0.0, 0.0, 0.0, 0.0, 0.0, 4.590486664739189, 0.36266499757298887, 2.117963611122892)</td>\n",
       "      <td>[1.5387563127991404, -1.5387563127991404]</td>\n",
       "      <td>0.0</td>\n",
       "      <td>[0.8232838569636941, 0.1767161430363059]</td>\n",
       "    </tr>\n",
       "    <tr>\n",
       "      <th>2</th>\n",
       "      <td>0.0</td>\n",
       "      <td>(0.0, 0.38059200551549593, 0.0, 0.23706746723943614, 0.0, 0.0, 0.0, 2.0000000267350644, 0.0, 0.0, 0.0, 0.0, 0.0, 0.0, 0.0, 0.0, 0.0, 0.0, 0.0, 0.0, 0.0, 0.0, 0.0, 0.0, 0.0, 0.0, 0.0, 0.0, 0.0, 0.0, 0.0, 0.0, 0.0, 4.590486664739189, 2.3775113576430638, 1.9735249074253416)</td>\n",
       "      <td>[-0.0367209613587689, 0.0367209613587689]</td>\n",
       "      <td>1.0</td>\n",
       "      <td>[0.4908207910964203, 0.5091792089035797]</td>\n",
       "    </tr>\n",
       "    <tr>\n",
       "      <th>3</th>\n",
       "      <td>1.0</td>\n",
       "      <td>(0.0012698977108153216, 0.3615624052397211, 0.0, 0.11590902557972856, 0.0, 0.0, 0.0, 2.0000000267350644, 0.0, 0.0, 0.0, 0.0, 0.0, 0.0, 0.0, 0.0, 0.0, 0.0, 0.0, 0.0, 6.108974114147155, 0.0, 0.0, 0.0, 0.0, 0.0, 0.0, 0.0, 0.0, 0.0, 0.0, 0.0, 0.0, 3.9422473063505, 3.4165849547830627, 3.2672267875075...</td>\n",
       "      <td>[-1.1633854358436202, 1.1633854358436202]</td>\n",
       "      <td>1.0</td>\n",
       "      <td>[0.23805267816416237, 0.7619473218358377]</td>\n",
       "    </tr>\n",
       "    <tr>\n",
       "      <th>4</th>\n",
       "      <td>1.0</td>\n",
       "      <td>(0.0, 0.19029600275774797, 0.0, 0.8755518485347796, 0.0, 0.0, 0.0, 2.0000000267350644, 0.0, 0.0, 0.0, 0.0, 0.0, 0.0, 0.0, 0.0, 0.0, 0.0, 0.0, 0.0, 0.0, 0.0, 0.0, 0.0, 0.0, 0.0, 0.0, 0.0, 0.0, 0.0, 0.0, 0.0, 0.0, 4.725366353609711, 1.20476193334613, 2.2782873716721372)</td>\n",
       "      <td>[0.6305419921793667, -0.6305419921793667]</td>\n",
       "      <td>0.0</td>\n",
       "      <td>[0.6526123471146713, 0.3473876528853287]</td>\n",
       "    </tr>\n",
       "  </tbody>\n",
       "</table>\n",
       "</div>"
      ],
      "text/plain": [
       "   label  \\\n",
       "0    1.0   \n",
       "1    0.0   \n",
       "2    0.0   \n",
       "3    1.0   \n",
       "4    1.0   \n",
       "\n",
       "                                                                                                                                                                                                                                                                                                      features  \\\n",
       "0  (0.010839484031602209, 0.41865120606704553, 0.0, 0.4171154573132441, 2.720664103432804, 0.0, 0.0, 2.0000000267350644, 0.0, 0.0, 0.0, 0.0, 0.0, 0.0, 0.0, 5.3993476572927905, 0.0, 0.0, 0.0, 0.0, 0.0, 0.0, 0.0, 0.0, 0.0, 0.0, 0.0, 0.0, 0.0, 0.0, 0.0, 0.0, 0.0, 6.37640208723222, 3.04322716047391, 3....   \n",
       "1                                (0.0, 2.131315230886777, 0.0, 0.15780767520195826, 0.0, 0.0, 0.0, 2.0000000267350644, 0.0, 0.0, 0.0, 0.0, 0.0, 0.0, 0.0, 0.0, 0.0, 0.0, 0.0, 0.0, 0.0, 0.0, 0.0, 0.0, 0.0, 0.0, 0.0, 0.0, 0.0, 0.0, 0.0, 0.0, 0.0, 4.590486664739189, 0.36266499757298887, 2.117963611122892)   \n",
       "2                              (0.0, 0.38059200551549593, 0.0, 0.23706746723943614, 0.0, 0.0, 0.0, 2.0000000267350644, 0.0, 0.0, 0.0, 0.0, 0.0, 0.0, 0.0, 0.0, 0.0, 0.0, 0.0, 0.0, 0.0, 0.0, 0.0, 0.0, 0.0, 0.0, 0.0, 0.0, 0.0, 0.0, 0.0, 0.0, 0.0, 4.590486664739189, 2.3775113576430638, 1.9735249074253416)   \n",
       "3  (0.0012698977108153216, 0.3615624052397211, 0.0, 0.11590902557972856, 0.0, 0.0, 0.0, 2.0000000267350644, 0.0, 0.0, 0.0, 0.0, 0.0, 0.0, 0.0, 0.0, 0.0, 0.0, 0.0, 0.0, 6.108974114147155, 0.0, 0.0, 0.0, 0.0, 0.0, 0.0, 0.0, 0.0, 0.0, 0.0, 0.0, 0.0, 3.9422473063505, 3.4165849547830627, 3.2672267875075...   \n",
       "4                                 (0.0, 0.19029600275774797, 0.0, 0.8755518485347796, 0.0, 0.0, 0.0, 2.0000000267350644, 0.0, 0.0, 0.0, 0.0, 0.0, 0.0, 0.0, 0.0, 0.0, 0.0, 0.0, 0.0, 0.0, 0.0, 0.0, 0.0, 0.0, 0.0, 0.0, 0.0, 0.0, 0.0, 0.0, 0.0, 0.0, 4.725366353609711, 1.20476193334613, 2.2782873716721372)   \n",
       "\n",
       "                               rawPrediction  prediction  \\\n",
       "0  [-1.2214074054404116, 1.2214074054404116]         1.0   \n",
       "1  [1.5387563127991404, -1.5387563127991404]         0.0   \n",
       "2  [-0.0367209613587689, 0.0367209613587689]         1.0   \n",
       "3  [-1.1633854358436202, 1.1633854358436202]         1.0   \n",
       "4  [0.6305419921793667, -0.6305419921793667]         0.0   \n",
       "\n",
       "                                 probability  \n",
       "0     [0.227688868199236, 0.772311131800764]  \n",
       "1   [0.8232838569636941, 0.1767161430363059]  \n",
       "2   [0.4908207910964203, 0.5091792089035797]  \n",
       "3  [0.23805267816416237, 0.7619473218358377]  \n",
       "4   [0.6526123471146713, 0.3473876528853287]  "
      ]
     },
     "execution_count": 24,
     "metadata": {},
     "output_type": "execute_result"
    }
   ],
   "source": [
    "predictions.select('label', 'features',  'rawPrediction', 'prediction', 'probability').limit(20).toPandas().head(5)"
   ]
  },
  {
   "cell_type": "code",
   "execution_count": 25,
   "id": "cbc4aecd-7e99-4660-818b-bb865dc891af",
   "metadata": {},
   "outputs": [],
   "source": [
    "# !pip install matplotlib"
   ]
  },
  {
   "cell_type": "code",
   "execution_count": 35,
   "id": "e2600d10-69ce-436d-bfd8-67b541f06b9f",
   "metadata": {},
   "outputs": [],
   "source": [
    "import matplotlib.pyplot as plt\n"
   ]
  },
  {
   "cell_type": "code",
   "execution_count": 36,
   "id": "22fd1a6c-d45c-4c49-b972-7f1bc354b7e4",
   "metadata": {},
   "outputs": [],
   "source": [
    "class_names=[1.0,0.0]\n",
    "import itertools\n",
    "def plot_confusion_matrix(cm, classes,\n",
    "                          normalize=False,\n",
    "                          title='Confusion matrix',\n",
    "                          cmap=plt.cm.Blues):\n",
    "    \"\"\"\n",
    "    This function prints and plots the confusion matrix.\n",
    "    Normalization can be applied by setting `normalize=True`.\n",
    "    \"\"\"\n",
    "    if normalize:\n",
    "        cm = cm.astype('float') / cm.sum(axis=1)[:, np.newaxis]\n",
    "        print(\"Normalized confusion matrix\")\n",
    "    else:\n",
    "        print('Confusion matrix, without normalization')\n",
    "\n",
    "    print(cm)\n",
    "\n",
    "    plt.imshow(cm, interpolation='nearest', cmap=cmap)\n",
    "    plt.title(title)\n",
    "    plt.colorbar()\n",
    "    tick_marks = np.arange(len(classes))\n",
    "    plt.xticks(tick_marks, classes, rotation=45)\n",
    "    plt.yticks(tick_marks, classes)\n",
    "\n",
    "    fmt = '.2f' if normalize else 'd'\n",
    "    thresh = cm.max() / 2.\n",
    "    for i, j in itertools.product(range(cm.shape[0]), range(cm.shape[1])):\n",
    "        plt.text(j, i, format(cm[i, j], fmt),\n",
    "                 horizontalalignment=\"center\",\n",
    "                 color=\"white\" if cm[i, j] > thresh else \"black\")\n",
    "\n",
    "    plt.tight_layout()\n",
    "    plt.ylabel('True label')\n",
    "    plt.xlabel('Predicted label')"
   ]
  },
  {
   "cell_type": "code",
   "execution_count": 28,
   "id": "6a250b40-efdb-41d0-b5c9-12e8cd5fe4da",
   "metadata": {},
   "outputs": [
    {
     "name": "stderr",
     "output_type": "stream",
     "text": [
      "                                                                                \r"
     ]
    },
    {
     "name": "stdout",
     "output_type": "stream",
     "text": [
      "Confusion matrix, without normalization\n",
      "[[425550 243213]\n",
      " [201726 610920]]\n"
     ]
    },
    {
     "data": {
      "image/png": "[encoded data removed]",
      "text/plain": [
       "<Figure size 432x288 with 2 Axes>"
      ]
     },
     "metadata": {
      "needs_background": "light"
     },
     "output_type": "display_data"
    }
   ],
   "source": [
    "y_true = predictions.select(\"label\")\n",
    "y_true = y_true.toPandas()\n",
    "\n",
    "y_pred = predictions.select(\"prediction\")\n",
    "y_pred = y_pred.toPandas()\n",
    "\n",
    "cnf_matrix = confusion_matrix(y_true, y_pred,labels=class_names)\n",
    "#cnf_matrix\n",
    "plt.figure()\n",
    "plot_confusion_matrix(cnf_matrix, classes=class_names,\n",
    "                      title='Confusion matrix')\n",
    "plt.show()"
   ]
  },
  {
   "cell_type": "code",
   "execution_count": 29,
   "id": "7737d1a5-1abb-4a0a-a21c-b48d28eb5680",
   "metadata": {},
   "outputs": [
    {
     "name": "stdout",
     "output_type": "stream",
     "text": [
      "LR Model accuracy:  0.699651480448681\n",
      "LR Model precision:  0.6784095039504142\n",
      "LR Model recall:  0.6363240789337927\n",
      "LR Model F1-Score:  0.328346600680998\n"
     ]
    }
   ],
   "source": [
    "accuracy=(cnf_matrix[0][0]+cnf_matrix[1][1])/cnf_matrix.sum()\n",
    "precision=(cnf_matrix[0][0])/(cnf_matrix[0][0]+cnf_matrix[1][0])\n",
    "recall=(cnf_matrix[0][0])/(cnf_matrix[0][0]+cnf_matrix[0][1])\n",
    "print(\"LR Model accuracy: \",accuracy)\n",
    "print(\"LR Model precision: \",precision)\n",
    "print(\"LR Model recall: \",recall)\n",
    "print(\"LR Model F1-Score: \",(precision*recall)/(precision + recall))"
   ]
  },
  {
   "cell_type": "code",
   "execution_count": 30,
   "id": "20a4bffd-b0a4-4238-951e-97529e32b48a",
   "metadata": {},
   "outputs": [
    {
     "name": "stderr",
     "output_type": "stream",
     "text": [
      "                                                                                \r"
     ]
    },
    {
     "name": "stdout",
     "output_type": "stream",
     "text": [
      "Accuracy :  0.699651480448681\n"
     ]
    }
   ],
   "source": [
    "accuracy = predictions.filter(predictions.label == predictions.prediction).count() / float(predictions.count())\n",
    "print(\"Accuracy : \",accuracy)"
   ]
  },
  {
   "cell_type": "code",
   "execution_count": 31,
   "id": "2f688b69-b6fa-4c37-9f38-6ad9bc374ad7",
   "metadata": {},
   "outputs": [
    {
     "name": "stderr",
     "output_type": "stream",
     "text": [
      "/opt/spark/python/pyspark/sql/context.py:125: FutureWarning: Deprecated in 3.0.0. Use SparkSession.builder.getOrCreate() instead.\n",
      "  warnings.warn(\n",
      "                                                                                \r"
     ]
    },
    {
     "data": {
      "image/png": "[encoded data removed]",
      "text/plain": [
       "<Figure size 432x288 with 1 Axes>"
      ]
     },
     "metadata": {
      "needs_background": "light"
     },
     "output_type": "display_data"
    },
    {
     "name": "stdout",
     "output_type": "stream",
     "text": [
      "Training set areaUnderROC: 0.7840827905648798\n"
     ]
    }
   ],
   "source": [
    "trainingSummary = lrModel.summary\n",
    "roc = trainingSummary.roc.toPandas()\n",
    "plt.plot(roc['FPR'],roc['TPR'])\n",
    "plt.ylabel('False Positive Rate')\n",
    "plt.xlabel('True Positive Rate')\n",
    "plt.title('ROC Curve')\n",
    "plt.show()\n",
    "print('Training set areaUnderROC: ' + str(trainingSummary.areaUnderROC))"
   ]
  },
  {
   "cell_type": "code",
   "execution_count": 32,
   "id": "b1d4fef6-256a-44d3-a8e4-b5f327390f86",
   "metadata": {},
   "outputs": [
    {
     "name": "stderr",
     "output_type": "stream",
     "text": [
      "                                                                                \r"
     ]
    },
    {
     "name": "stdout",
     "output_type": "stream",
     "text": [
      "Test Area Under ROC 0.7596451972165835\n"
     ]
    }
   ],
   "source": [
    "from pyspark.ml.evaluation import BinaryClassificationEvaluator\n",
    "evaluator = BinaryClassificationEvaluator()\n",
    "print('Test Area Under ROC', evaluator.evaluate(predictions))"
   ]
  },
  {
   "cell_type": "code",
   "execution_count": null,
   "id": "15c9a8d5-0ac3-43af-baeb-816c90db825e",
   "metadata": {},
   "outputs": [],
   "source": []
  },
  {
   "cell_type": "markdown",
   "id": "a28e7a06-b3ac-4ceb-9972-5308a0bcfe78",
   "metadata": {},
   "source": [
    "### LR Model - OOT"
   ]
  },
  {
   "cell_type": "code",
   "execution_count": 33,
   "id": "00fe253b-47d2-4c0d-a7f4-4d442aebbdec",
   "metadata": {},
   "outputs": [
    {
     "name": "stderr",
     "output_type": "stream",
     "text": [
      "                                                                                \r"
     ]
    },
    {
     "name": "stdout",
     "output_type": "stream",
     "text": [
      "root\n",
      " |-- label: double (nullable = false)\n",
      " |-- vectorized_features: vector (nullable = true)\n",
      " |-- features: vector (nullable = true)\n",
      " |-- Target: string (nullable = true)\n",
      " |-- claim_srvc_days: integer (nullable = true)\n",
      " |-- diff_batch_srvc_dt: integer (nullable = true)\n",
      " |-- mod_59_ohe: integer (nullable = true)\n",
      " |-- billed_amt_per_unit: double (nullable = true)\n",
      " |-- upcoded: integer (nullable = true)\n",
      " |-- unbundled_0: integer (nullable = true)\n",
      " |-- unbundled_1: integer (nullable = true)\n",
      " |-- plc_11: integer (nullable = true)\n",
      " |-- plc_12: integer (nullable = true)\n",
      " |-- plc_21: integer (nullable = true)\n",
      " |-- plc_22: integer (nullable = true)\n",
      " |-- plc_23: integer (nullable = true)\n",
      " |-- plc_24: integer (nullable = true)\n",
      " |-- plc_49: integer (nullable = true)\n",
      " |-- plc_81: integer (nullable = true)\n",
      " |-- prov_spec_Chiropractor: integer (nullable = true)\n",
      " |-- prov_spec_Clinical_Psychology: integer (nullable = true)\n",
      " |-- prov_spec_Emergency_Medicine: integer (nullable = true)\n",
      " |-- prov_spec_Gastroenterology: integer (nullable = true)\n",
      " |-- prov_spec_Independent_Lab_Non-MD: integer (nullable = true)\n",
      " |-- prov_spec_Occupational_Therapist: integer (nullable = true)\n",
      " |-- prov_spec_Oncology: integer (nullable = true)\n",
      " |-- prov_spec_Pathology: integer (nullable = true)\n",
      " |-- prov_spec_Pediatrics: integer (nullable = true)\n",
      " |-- prov_spec_Special_Provider_Agreement: integer (nullable = true)\n",
      " |-- proc_mod_HPV_HIGH-RISK_TYPES__REFERENCE_OUTSIDE_LABORATORY: integer (nullable = true)\n",
      " |-- proc_mod_L_HRT_ARTERY/VENTRICLE_ANGIO__PROFESSIONAL_COMPONENT: integer (nullable = true)\n",
      " |-- proc_mod_MANUAL_THERAPY_1/>_REGIONS__DISTINCT_PROCEDURAL_SERVICE: integer (nullable = true)\n",
      " |-- proc_mod_MEASURE_BLOOD_OXYGEN_LEVEL__DISTINCT_PROCEDURAL_SERVICE: integer (nullable = true)\n",
      " |-- proc_mod_OFFICE_O/P_EST_SF_10-19_MIN__SIGNIFICANT_SEPARATELY_IDENTIFIABLE_EVAL_&_MGMT_SVC_SAME_PHYSCN_AND_DAY: integer (nullable = true)\n",
      " |-- proc_mod_PER_PM_REEVAL_EST_PAT_INFANT__SIGNIFICANT_SEPARATELY_IDENTIFIABLE_EVAL_&_MGMT_SVC_SAME_PHYSCN_AND_DAY: integer (nullable = true)\n",
      " |-- proc_mod_THER/PROPH/DIAG_INJ_IV_PUSH__DISTINCT_PROCEDURAL_SERVICE: integer (nullable = true)\n",
      " |-- proc_mod_UNKNOWN_PROCEDURE__NEW_EQUIPMENT: integer (nullable = true)\n",
      " |-- diag_risk: double (nullable = true)\n",
      " |-- proc_risk: double (nullable = true)\n",
      " |-- prov_risk: double (nullable = true)\n",
      "\n"
     ]
    }
   ],
   "source": [
    "## OOT:\n",
    "cols = test_data.columns\n",
    "pipeline = Pipeline(stages = stages)\n",
    "pipelineModel = pipeline.fit(test_data)\n",
    "test_data_2 = pipelineModel.transform(test_data)\n",
    "selectedCols = ['label', 'vectorized_features','features'] + cols\n",
    "test_data_2 = test_data_2.select(selectedCols)\n",
    "test_data_2.printSchema()"
   ]
  },
  {
   "cell_type": "code",
   "execution_count": 34,
   "id": "bf08c08e-a6d6-47c1-b7d2-0880bcb3b8ea",
   "metadata": {},
   "outputs": [],
   "source": [
    "predictions_test = lrModel.transform(test_data_2)"
   ]
  },
  {
   "cell_type": "code",
   "execution_count": 35,
   "id": "c065fd84-1ee7-49ca-b9d2-76c3163620c3",
   "metadata": {},
   "outputs": [
    {
     "name": "stderr",
     "output_type": "stream",
     "text": [
      "                                                                                \r"
     ]
    },
    {
     "name": "stdout",
     "output_type": "stream",
     "text": [
      "Confusion matrix, without normalization\n",
      "[[ 768639  432919]\n",
      " [ 438800 1096731]]\n"
     ]
    },
    {
     "data": {
      "image/png": "[encoded data removed]",
      "text/plain": [
       "<Figure size 432x288 with 2 Axes>"
      ]
     },
     "metadata": {
      "needs_background": "light"
     },
     "output_type": "display_data"
    }
   ],
   "source": [
    "y_true = predictions_test.select(\"label\")\n",
    "y_true = y_true.toPandas()\n",
    "\n",
    "y_pred = predictions_test.select(\"prediction\")\n",
    "y_pred = y_pred.toPandas()\n",
    "\n",
    "cnf_matrix = confusion_matrix(y_true, y_pred,labels=class_names)\n",
    "#cnf_matrix\n",
    "plt.figure()\n",
    "plot_confusion_matrix(cnf_matrix, classes=class_names,\n",
    "                      title='Confusion matrix')\n",
    "plt.show()"
   ]
  },
  {
   "cell_type": "code",
   "execution_count": 36,
   "id": "9b69ada2-f7b8-4203-bef0-daf8dd06b393",
   "metadata": {},
   "outputs": [
    {
     "name": "stderr",
     "output_type": "stream",
     "text": [
      "                                                                                \r"
     ]
    },
    {
     "name": "stdout",
     "output_type": "stream",
     "text": [
      "Accuracy :  0.6815160193914045\n"
     ]
    }
   ],
   "source": [
    "accuracy = predictions_test.filter(predictions_test.label == predictions_test.prediction).count() / float(predictions_test.count())\n",
    "print(\"Accuracy : \",accuracy)"
   ]
  },
  {
   "cell_type": "code",
   "execution_count": 37,
   "id": "2141838f-7551-46b7-8556-795e9d2a583e",
   "metadata": {},
   "outputs": [
    {
     "name": "stderr",
     "output_type": "stream",
     "text": [
      "                                                                                \r"
     ]
    },
    {
     "name": "stdout",
     "output_type": "stream",
     "text": [
      "Test Area Under ROC 0.737388438029374\n"
     ]
    }
   ],
   "source": [
    "from pyspark.ml.evaluation import BinaryClassificationEvaluator\n",
    "evaluator = BinaryClassificationEvaluator()\n",
    "print('Test Area Under ROC', evaluator.evaluate(predictions_test))"
   ]
  },
  {
   "cell_type": "code",
   "execution_count": 38,
   "id": "9947f058-966d-4424-bacc-b79822ebfa2f",
   "metadata": {},
   "outputs": [
    {
     "name": "stdout",
     "output_type": "stream",
     "text": [
      "LR Model accuracy:  0.6815160193914045\n",
      "LR Model precision:  0.6365861960728451\n",
      "LR Model recall:  0.6397019536302034\n",
      "LR Model F1-Score:  0.31907013582831356\n"
     ]
    }
   ],
   "source": [
    "accuracy=(cnf_matrix[0][0]+cnf_matrix[1][1])/cnf_matrix.sum()\n",
    "precision=(cnf_matrix[0][0])/(cnf_matrix[0][0]+cnf_matrix[1][0])\n",
    "recall=(cnf_matrix[0][0])/(cnf_matrix[0][0]+cnf_matrix[0][1])\n",
    "print(\"LR Model accuracy: \",accuracy)\n",
    "print(\"LR Model precision: \",precision)\n",
    "print(\"LR Model recall: \",recall)\n",
    "print(\"LR Model F1-Score: \",(precision*recall)/(precision + recall))"
   ]
  },
  {
   "cell_type": "code",
   "execution_count": 39,
   "id": "ca75c5e9-c43d-4ac9-859a-97edf7399add",
   "metadata": {},
   "outputs": [],
   "source": [
    "# lrModel.save('temp')"
   ]
  },
  {
   "cell_type": "markdown",
   "id": "31c944c9-6cb8-4b29-ab4e-011c78baaef7",
   "metadata": {},
   "source": [
    "## Grid Search"
   ]
  },
  {
   "cell_type": "code",
   "execution_count": null,
   "id": "7d21f888-a54d-407e-a665-5aecc89c3bca",
   "metadata": {},
   "outputs": [],
   "source": [
    "from pyspark.ml.tuning import ParamGridBuilder, CrossValidator\n",
    "\n",
    "# Create ParamGrid for Cross Validation\n",
    "paramGrid = (ParamGridBuilder()\n",
    "             .addGrid(lr.regParam, [0.01, 0.1, 0.2, 0.35, 0.6, 0.8])# regularization parameter\n",
    "             .addGrid(lr.elasticNetParam, [0.0, 0.5, 1.0])# Elastic Net Parameter (Ridge = 0)\n",
    "             .addGrid(lr.maxIter, [1, 5, 10])#Number of iterations\n",
    "             .build())\n",
    "\n",
    "cv = CrossValidator(estimator=lr, estimatorParamMaps=paramGrid, \n",
    "                    evaluator=evaluator, numFolds=5)\n",
    "\n",
    "cvModel = cv.fit(train_data_2)"
   ]
  },
  {
   "cell_type": "code",
   "execution_count": 61,
   "id": "bd23d64c-b3a9-4811-ad73-89aef4ec06bd",
   "metadata": {},
   "outputs": [
    {
     "name": "stderr",
     "output_type": "stream",
     "text": [
      "                                                                                \r"
     ]
    },
    {
     "name": "stdout",
     "output_type": "stream",
     "text": [
      "Best Model Test Area Under ROC 0.7598141764793838\n"
     ]
    }
   ],
   "source": [
    "## Evaluate Best Model\n",
    "predictions_2 = cvModel.transform(valid_data_2)\n",
    "print('Best Model Test Area Under ROC', evaluator.evaluate(predictions_2))"
   ]
  },
  {
   "cell_type": "code",
   "execution_count": 62,
   "id": "5d013aff-1402-402a-b257-0149bd76d118",
   "metadata": {},
   "outputs": [
    {
     "data": {
      "text/plain": [
       "LogisticRegressionModel: uid=LogisticRegression_60b4e55a2cd5, numClasses=2, numFeatures=36"
      ]
     },
     "execution_count": 62,
     "metadata": {},
     "output_type": "execute_result"
    }
   ],
   "source": [
    "cvModel.bestModel"
   ]
  },
  {
   "cell_type": "code",
   "execution_count": 63,
   "id": "342ebafb-b865-4e71-81bd-a749100656f1",
   "metadata": {},
   "outputs": [],
   "source": [
    "best_model=cvModel.bestModel"
   ]
  },
  {
   "cell_type": "code",
   "execution_count": 64,
   "id": "7eab9d20-9cb1-47fb-a3b3-623a927f6d9d",
   "metadata": {},
   "outputs": [
    {
     "name": "stdout",
     "output_type": "stream",
     "text": [
      "Best Model Regularization param:  0.01\n",
      "Best Model max number of iterations  param:  10\n",
      "Best Model ElasticNet mixing parameter param:  0.0\n"
     ]
    }
   ],
   "source": [
    "print('Best Model Regularization param: ',best_model._java_obj.getRegParam())\n",
    "print('Best Model max number of iterations  param: ',best_model._java_obj.getMaxIter())\n",
    "print('Best Model ElasticNet mixing parameter param: ',best_model._java_obj.getElasticNetParam())"
   ]
  },
  {
   "cell_type": "markdown",
   "id": "9c6ee1c1-b2e1-46a4-bf72-4ca3b9fa845a",
   "metadata": {},
   "source": [
    "## Evaluation:"
   ]
  },
  {
   "cell_type": "markdown",
   "id": "c900e144-79a4-419a-bebf-1f53c3e192cf",
   "metadata": {},
   "source": [
    "### Train"
   ]
  },
  {
   "cell_type": "code",
   "execution_count": 65,
   "id": "e567eaee-83a6-404b-8f1c-7a335d729283",
   "metadata": {},
   "outputs": [
    {
     "name": "stderr",
     "output_type": "stream",
     "text": [
      "/opt/spark/python/pyspark/sql/context.py:125: FutureWarning: Deprecated in 3.0.0. Use SparkSession.builder.getOrCreate() instead.\n",
      "  warnings.warn(\n"
     ]
    },
    {
     "data": {
      "image/png": "[encoded data removed]",
      "text/plain": [
       "<Figure size 432x288 with 1 Axes>"
      ]
     },
     "metadata": {
      "needs_background": "light"
     },
     "output_type": "display_data"
    },
    {
     "name": "stdout",
     "output_type": "stream",
     "text": [
      "Training set areaUnderROC: 0.7840820497421873\n"
     ]
    }
   ],
   "source": [
    "# ROC\n",
    "\n",
    "trainingSummary = best_model.summary\n",
    "roc = trainingSummary.roc.toPandas()\n",
    "plt.plot(roc['FPR'],roc['TPR'])\n",
    "plt.ylabel('False Positive Rate')\n",
    "plt.xlabel('True Positive Rate')\n",
    "plt.title('ROC Curve')\n",
    "plt.show()\n",
    "print('Training set areaUnderROC: ' + str(trainingSummary.areaUnderROC))"
   ]
  },
  {
   "cell_type": "code",
   "execution_count": 66,
   "id": "395a9a36-0009-43af-b8ea-ea2f2fd08c97",
   "metadata": {},
   "outputs": [
    {
     "name": "stderr",
     "output_type": "stream",
     "text": [
      "/opt/spark/python/pyspark/sql/context.py:125: FutureWarning: Deprecated in 3.0.0. Use SparkSession.builder.getOrCreate() instead.\n",
      "  warnings.warn(\n"
     ]
    },
    {
     "data": {
      "image/png": "[encoded data removed]",
      "text/plain": [
       "<Figure size 432x288 with 1 Axes>"
      ]
     },
     "metadata": {
      "needs_background": "light"
     },
     "output_type": "display_data"
    }
   ],
   "source": [
    "## Precision and recall.\n",
    "\n",
    "pr = trainingSummary.pr.toPandas()\n",
    "plt.plot(pr['recall'],pr['precision'])\n",
    "plt.ylabel('Precision')\n",
    "plt.xlabel('Recall')\n",
    "plt.show()"
   ]
  },
  {
   "cell_type": "markdown",
   "id": "486e5e1c-2997-4e07-820e-c7ecce6190b1",
   "metadata": {},
   "source": [
    "## Valid"
   ]
  },
  {
   "cell_type": "code",
   "execution_count": 67,
   "id": "93d17801-97de-4e4a-b341-6e54dfb83b6e",
   "metadata": {},
   "outputs": [
    {
     "name": "stderr",
     "output_type": "stream",
     "text": [
      "                                                                                \r"
     ]
    },
    {
     "name": "stdout",
     "output_type": "stream",
     "text": [
      "Test Area Under ROC 0.7598159793606256\n"
     ]
    }
   ],
   "source": [
    "## Evaluate our Logistic Regression model.\n",
    "\n",
    "from pyspark.ml.evaluation import BinaryClassificationEvaluator\n",
    "evaluator = BinaryClassificationEvaluator()\n",
    "print('Test Area Under ROC', evaluator.evaluate(predictions_2))"
   ]
  },
  {
   "cell_type": "code",
   "execution_count": 68,
   "id": "c3c64723-e00f-40ee-9418-32895c74af8e",
   "metadata": {},
   "outputs": [
    {
     "name": "stderr",
     "output_type": "stream",
     "text": [
      "                                                                                \r"
     ]
    },
    {
     "name": "stdout",
     "output_type": "stream",
     "text": [
      "Confusion matrix, without normalization\n",
      "[[425868 242895]\n",
      " [201698 610948]]\n"
     ]
    },
    {
     "data": {
      "image/png": "[encoded data removed]",
      "text/plain": [
       "<Figure size 432x288 with 2 Axes>"
      ]
     },
     "metadata": {
      "needs_background": "light"
     },
     "output_type": "display_data"
    }
   ],
   "source": [
    "y_true = predictions_2.select(\"label\")\n",
    "y_true = y_true.toPandas()\n",
    "\n",
    "y_pred = predictions_2.select(\"prediction\")\n",
    "y_pred = y_pred.toPandas()\n",
    "\n",
    "cnf_matrix = confusion_matrix(y_true, y_pred,labels=class_names)\n",
    "#cnf_matrix\n",
    "plt.figure()\n",
    "plot_confusion_matrix(cnf_matrix, classes=class_names,\n",
    "                      title='Confusion matrix')\n",
    "plt.show()"
   ]
  },
  {
   "cell_type": "code",
   "execution_count": 69,
   "id": "bc70f04b-5da3-4145-998b-d4b9b5fbcdc4",
   "metadata": {},
   "outputs": [
    {
     "name": "stdout",
     "output_type": "stream",
     "text": [
      "LR Model accuracy:  0.6998850418756738\n",
      "LR Model precision:  0.6786027286373066\n",
      "LR Model recall:  0.636799583709027\n",
      "LR Model F1-Score:  0.3285184548058402\n"
     ]
    }
   ],
   "source": [
    "accuracy=(cnf_matrix[0][0]+cnf_matrix[1][1])/cnf_matrix.sum()\n",
    "precision=(cnf_matrix[0][0])/(cnf_matrix[0][0]+cnf_matrix[1][0])\n",
    "recall=(cnf_matrix[0][0])/(cnf_matrix[0][0]+cnf_matrix[0][1])\n",
    "print(\"LR Model accuracy: \",accuracy)\n",
    "print(\"LR Model precision: \",precision)\n",
    "print(\"LR Model recall: \",recall)\n",
    "print(\"LR Model F1-Score: \",(precision*recall)/(precision + recall))"
   ]
  },
  {
   "cell_type": "code",
   "execution_count": 70,
   "id": "02cf2243-bcf4-4a24-8ac9-276121f4c109",
   "metadata": {},
   "outputs": [
    {
     "name": "stderr",
     "output_type": "stream",
     "text": [
      "                                                                                \r"
     ]
    },
    {
     "name": "stdout",
     "output_type": "stream",
     "text": [
      "Accuracy :  0.6998850418756738\n"
     ]
    }
   ],
   "source": [
    "accuracy = predictions_2.filter(predictions_2.label == predictions_2.prediction).count() / float(predictions_2.count())\n",
    "print(\"Accuracy : \",accuracy)"
   ]
  },
  {
   "cell_type": "markdown",
   "id": "065960b4-33d7-44d1-9a68-33434890d616",
   "metadata": {},
   "source": [
    "### OOT - "
   ]
  },
  {
   "cell_type": "code",
   "execution_count": 71,
   "id": "5b9060d1-184a-4f21-b0f9-2cad1de48dfc",
   "metadata": {},
   "outputs": [
    {
     "name": "stderr",
     "output_type": "stream",
     "text": [
      "                                                                                \r"
     ]
    },
    {
     "name": "stdout",
     "output_type": "stream",
     "text": [
      "Best Model Test Area Under ROC 0.7378083703033235\n"
     ]
    }
   ],
   "source": [
    "## Evaluate Best Model\n",
    "predictions_test_2 = cvModel.transform(test_data_2)\n",
    "print('Best Model Test Area Under ROC', evaluator.evaluate(predictions_test_2))"
   ]
  },
  {
   "cell_type": "code",
   "execution_count": 72,
   "id": "849ac2be-74a2-4958-b45b-a7b263d00361",
   "metadata": {},
   "outputs": [
    {
     "name": "stderr",
     "output_type": "stream",
     "text": [
      "                                                                                \r"
     ]
    },
    {
     "name": "stdout",
     "output_type": "stream",
     "text": [
      "Test Area Under ROC 0.7378076441485611\n"
     ]
    }
   ],
   "source": [
    "## Evaluate our Logistic Regression model.\n",
    "\n",
    "from pyspark.ml.evaluation import BinaryClassificationEvaluator\n",
    "evaluator = BinaryClassificationEvaluator()\n",
    "print('Test Area Under ROC', evaluator.evaluate(predictions_test_2))"
   ]
  },
  {
   "cell_type": "code",
   "execution_count": 73,
   "id": "7a2f27d2-62a9-449b-afd0-ca3fd4803562",
   "metadata": {},
   "outputs": [
    {
     "name": "stderr",
     "output_type": "stream",
     "text": [
      "                                                                                \r"
     ]
    },
    {
     "name": "stdout",
     "output_type": "stream",
     "text": [
      "Confusion matrix, without normalization\n",
      "[[ 767275  434283]\n",
      " [ 436904 1098627]]\n"
     ]
    },
    {
     "data": {
      "image/png": "[encoded data removed]",
      "text/plain": [
       "<Figure size 432x288 with 2 Axes>"
      ]
     },
     "metadata": {
      "needs_background": "light"
     },
     "output_type": "display_data"
    }
   ],
   "source": [
    "y_true = predictions_test_2.select(\"label\")\n",
    "y_true = y_true.toPandas()\n",
    "\n",
    "y_pred = predictions_test_2.select(\"prediction\")\n",
    "y_pred = y_pred.toPandas()\n",
    "\n",
    "cnf_matrix = confusion_matrix(y_true, y_pred,labels=class_names)\n",
    "#cnf_matrix\n",
    "plt.figure()\n",
    "plot_confusion_matrix(cnf_matrix, classes=class_names,\n",
    "                      title='Confusion matrix')\n",
    "plt.show()"
   ]
  },
  {
   "cell_type": "code",
   "execution_count": 74,
   "id": "c5c8b5d6-c821-436f-8677-77786561cd20",
   "metadata": {},
   "outputs": [
    {
     "name": "stdout",
     "output_type": "stream",
     "text": [
      "LR Model accuracy:  0.6817103864726357\n",
      "LR Model precision:  0.6371768649013145\n",
      "LR Model recall:  0.6385667608221992\n",
      "LR Model F1-Score:  0.3189355278652654\n"
     ]
    }
   ],
   "source": [
    "accuracy=(cnf_matrix[0][0]+cnf_matrix[1][1])/cnf_matrix.sum()\n",
    "precision=(cnf_matrix[0][0])/(cnf_matrix[0][0]+cnf_matrix[1][0])\n",
    "recall=(cnf_matrix[0][0])/(cnf_matrix[0][0]+cnf_matrix[0][1])\n",
    "print(\"LR Model accuracy: \",accuracy)\n",
    "print(\"LR Model precision: \",precision)\n",
    "print(\"LR Model recall: \",recall)\n",
    "print(\"LR Model F1-Score: \",(precision*recall)/(precision + recall))"
   ]
  },
  {
   "cell_type": "code",
   "execution_count": 76,
   "id": "458a3016-caef-40ed-a697-e4dbc4dfdea7",
   "metadata": {},
   "outputs": [
    {
     "name": "stderr",
     "output_type": "stream",
     "text": [
      "[Stage 6946:==================================================>   (15 + 1) / 16]\r"
     ]
    },
    {
     "name": "stdout",
     "output_type": "stream",
     "text": [
      "Accuracy :  0.6817103864726357\n"
     ]
    },
    {
     "name": "stderr",
     "output_type": "stream",
     "text": [
      "                                                                                \r"
     ]
    }
   ],
   "source": [
    "accuracy = predictions_test_2.filter(predictions_test_2.label == predictions_test_2.prediction).count() / float(predictions_test_2.count())\n",
    "print(\"Accuracy : \",accuracy)"
   ]
  },
  {
   "cell_type": "code",
   "execution_count": 77,
   "id": "84963a36-b02b-4580-96ec-837014148ad8",
   "metadata": {},
   "outputs": [
    {
     "name": "stderr",
     "output_type": "stream",
     "text": [
      "                                                                                \r"
     ]
    },
    {
     "data": {
      "text/plain": [
       "2737089"
      ]
     },
     "execution_count": 77,
     "metadata": {},
     "output_type": "execute_result"
    }
   ],
   "source": [
    "predictions_test_2.count()"
   ]
  },
  {
   "cell_type": "code",
   "execution_count": 78,
   "id": "0f6ee94a-f1fd-44ac-99c8-9a7af2359a06",
   "metadata": {},
   "outputs": [
    {
     "data": {
      "text/plain": [
       "pyspark.sql.dataframe.DataFrame"
      ]
     },
     "execution_count": 78,
     "metadata": {},
     "output_type": "execute_result"
    }
   ],
   "source": [
    "type(predictions_test_2)"
   ]
  },
  {
   "cell_type": "code",
   "execution_count": 79,
   "id": "73de9ccc-c4ab-4b91-b0c3-e22ce2b84f2b",
   "metadata": {},
   "outputs": [
    {
     "data": {
      "text/plain": [
       "pyspark.ml.classification.LogisticRegressionModel"
      ]
     },
     "execution_count": 79,
     "metadata": {},
     "output_type": "execute_result"
    }
   ],
   "source": [
    "type(best_model)"
   ]
  },
  {
   "cell_type": "code",
   "execution_count": 75,
   "id": "adb1b093-5dec-48ca-ba9a-0256f8bf4e68",
   "metadata": {},
   "outputs": [
    {
     "name": "stderr",
     "output_type": "stream",
     "text": [
      "                                                                                \r"
     ]
    },
    {
     "name": "stdout",
     "output_type": "stream",
     "text": [
      "Best Model Test Area Under ROC 0.7598142724713106\n"
     ]
    }
   ],
   "source": [
    "## Evaluate Best Model\n",
    "temp = best_model.transform(valid_data_2)\n",
    "print('Best Model Test Area Under ROC', evaluator.evaluate(temp))"
   ]
  },
  {
   "cell_type": "code",
   "execution_count": null,
   "id": "8d6ab20a-1fd5-4c5c-8989-84a2d13c9b38",
   "metadata": {},
   "outputs": [],
   "source": []
  },
  {
   "cell_type": "code",
   "execution_count": null,
   "id": "6dbfae2b-ad9c-4cbd-a1ca-ba4558a916aa",
   "metadata": {},
   "outputs": [],
   "source": []
  },
  {
   "cell_type": "code",
   "execution_count": null,
   "id": "a0fb6b77-e0b3-449c-b5e2-219ae1a3c6cc",
   "metadata": {},
   "outputs": [],
   "source": []
  },
  {
   "cell_type": "code",
   "execution_count": null,
   "id": "6f446bbc-f0e9-46d6-ad22-789cc42b059a",
   "metadata": {},
   "outputs": [],
   "source": []
  },
  {
   "cell_type": "code",
   "execution_count": 85,
   "id": "b86588b7-309b-40f8-ab68-a4291f49fdc1",
   "metadata": {},
   "outputs": [],
   "source": [
    "# best_model.save()"
   ]
  },
  {
   "cell_type": "code",
   "execution_count": 84,
   "id": "baa3f1fd-5512-47e4-8f13-1ba393472762",
   "metadata": {},
   "outputs": [
    {
     "name": "stderr",
     "output_type": "stream",
     "text": [
      "                                                                                \r"
     ]
    }
   ],
   "source": [
    "# best_model.write().overwrite().save(\"file:/home/asaxen83/model/lr_best_model_2/metadata/_temporary/0/_temporary/model_obj\")\n",
    "\n",
    "model_path =\"s3a://as-bucket/model_obj/pyspark_model/lr_model_1.model\"\n",
    "\n",
    "best_model.save(model_path)"
   ]
  },
  {
   "cell_type": "code",
   "execution_count": null,
   "id": "b610a1b7-5b9b-49f3-9f0d-6a8bc1c79114",
   "metadata": {},
   "outputs": [],
   "source": []
  },
  {
   "cell_type": "code",
   "execution_count": null,
   "id": "23796840-f10a-4da8-8506-716a13cd6e49",
   "metadata": {},
   "outputs": [],
   "source": []
  },
  {
   "cell_type": "code",
   "execution_count": null,
   "id": "204f8e50-5f7b-432f-a8a0-5c0b9f0ba33a",
   "metadata": {},
   "outputs": [],
   "source": []
  },
  {
   "cell_type": "markdown",
   "id": "c46106d1-a1ad-4bcf-9a1d-5ef3e9f18b20",
   "metadata": {},
   "source": [
    "## Load LR Model"
   ]
  },
  {
   "cell_type": "code",
   "execution_count": 41,
   "id": "5b06aaf4-4be0-4ee6-bc14-f5ef5f495e5d",
   "metadata": {},
   "outputs": [],
   "source": [
    "from pyspark.ml.classification import LogisticRegressionModel\n",
    "model_path =\"s3a://as-bucket/model_obj/pyspark_model/lr_model_1.model\"\n",
    "model = LogisticRegressionModel.load(model_path)"
   ]
  },
  {
   "cell_type": "code",
   "execution_count": 42,
   "id": "dc43089b-7d4e-4637-956d-d6b4c97b3b00",
   "metadata": {},
   "outputs": [
    {
     "data": {
      "text/plain": [
       "Param(parent='LogisticRegression_60b4e55a2cd5', name='featuresCol', doc='features column name.')"
      ]
     },
     "execution_count": 42,
     "metadata": {},
     "output_type": "execute_result"
    }
   ],
   "source": [
    "model.featuresCol"
   ]
  },
  {
   "cell_type": "code",
   "execution_count": 43,
   "id": "51754090-740f-4d78-931c-3fa35bf03ab9",
   "metadata": {},
   "outputs": [],
   "source": [
    "weights = model.coefficients\n",
    "# weights = [(float(w),) for w in weights]\n",
    "# weightsDF = sqlContext.createDataFrame(weights, [\"Feature Weight\"])\n",
    "# weightsDF.toPandas().head(10)"
   ]
  },
  {
   "cell_type": "code",
   "execution_count": 44,
   "id": "3f8f38fe-9e1e-47cb-8e17-8a70a351619a",
   "metadata": {},
   "outputs": [
    {
     "data": {
      "text/plain": [
       "DenseVector([-0.0002, -0.0495, -0.0019, 0.0386, 0.0463, 0.023, 0.0304, -0.0098, 0.0167, 0.029, 0.0242, -0.042, -0.0048, 0.0008, 0.0024, -0.0669, 0.0315, -0.0201, 0.0225, 0.0115, -0.0727, -0.005, -0.0145, 0.0004, -0.0419, 0.0022, -0.0103, 0.0101, 0.0008, 0.0072, -0.0317, -0.0047, 0.0046, 0.059, 0.7263, 0.653])"
      ]
     },
     "execution_count": 44,
     "metadata": {},
     "output_type": "execute_result"
    }
   ],
   "source": [
    "weights"
   ]
  },
  {
   "cell_type": "markdown",
   "id": "59a21baa-2480-4fe8-a5db-2f8813cce67c",
   "metadata": {},
   "source": [
    "## HPHC Score"
   ]
  },
  {
   "cell_type": "code",
   "execution_count": 21,
   "id": "2cfeb6ab-218a-4860-8422-71c092f4617b",
   "metadata": {},
   "outputs": [
    {
     "data": {
      "text/plain": [
       "67467"
      ]
     },
     "execution_count": 21,
     "metadata": {},
     "output_type": "execute_result"
    }
   ],
   "source": [
    "hphc_df = spark.read.parquet(\"s3a://as-bucket/client_data/hphc/ads_w_risk/data.parquet/*.parquet\")\n",
    "hphc_df.count()"
   ]
  },
  {
   "cell_type": "code",
   "execution_count": 22,
   "id": "42b2242f-ee83-4544-99cb-7b53c7405836",
   "metadata": {},
   "outputs": [
    {
     "name": "stderr",
     "output_type": "stream",
     "text": [
      "                                                                                \r"
     ]
    },
    {
     "data": {
      "text/html": [
       "<div>\n",
       "<style scoped>\n",
       "    .dataframe tbody tr th:only-of-type {\n",
       "        vertical-align: middle;\n",
       "    }\n",
       "\n",
       "    .dataframe tbody tr th {\n",
       "        vertical-align: top;\n",
       "    }\n",
       "\n",
       "    .dataframe thead th {\n",
       "        text-align: right;\n",
       "    }\n",
       "</style>\n",
       "<table border=\"1\" class=\"dataframe\">\n",
       "  <thead>\n",
       "    <tr style=\"text-align: right;\">\n",
       "      <th></th>\n",
       "      <th>r_bill_fein</th>\n",
       "      <th>hdr_pay_to_prov_npi_id</th>\n",
       "      <th>li_proc_cd</th>\n",
       "      <th>hdr_diag_prim_cd</th>\n",
       "      <th>hdr_clm_tcn</th>\n",
       "      <th>batch_id</th>\n",
       "      <th>line_num</th>\n",
       "      <th>claim_srvc_days</th>\n",
       "      <th>diff_batch_srvc_dt</th>\n",
       "      <th>mod_59_ohe</th>\n",
       "      <th>...</th>\n",
       "      <th>proc_mod_MANUAL_THERAPY_1/&gt;_REGIONS__DISTINCT_PROCEDURAL_SERVICE</th>\n",
       "      <th>proc_mod_MEASURE_BLOOD_OXYGEN_LEVEL__DISTINCT_PROCEDURAL_SERVICE</th>\n",
       "      <th>proc_mod_OFFICE_O/P_EST_SF_10-19_MIN__SIGNIFICANT_SEPARATELY_IDENTIFIABLE_EVAL_&amp;_MGMT_SVC_SAME_PHYSCN_AND_DAY</th>\n",
       "      <th>proc_mod_PER_PM_REEVAL_EST_PAT_INFANT__SIGNIFICANT_SEPARATELY_IDENTIFIABLE_EVAL_&amp;_MGMT_SVC_SAME_PHYSCN_AND_DAY</th>\n",
       "      <th>proc_mod_THER/PROPH/DIAG_INJ_IV_PUSH__DISTINCT_PROCEDURAL_SERVICE</th>\n",
       "      <th>proc_mod_UNKNOWN_PROCEDURE__NEW_EQUIPMENT</th>\n",
       "      <th>Target</th>\n",
       "      <th>diag_risk</th>\n",
       "      <th>proc_risk</th>\n",
       "      <th>prov_risk</th>\n",
       "    </tr>\n",
       "  </thead>\n",
       "  <tbody>\n",
       "    <tr>\n",
       "      <th>0</th>\n",
       "      <td>455391610</td>\n",
       "      <td>None</td>\n",
       "      <td>99204</td>\n",
       "      <td>J029</td>\n",
       "      <td>200330070256</td>\n",
       "      <td>20211020010</td>\n",
       "      <td>10.0</td>\n",
       "      <td>0</td>\n",
       "      <td>592</td>\n",
       "      <td>0</td>\n",
       "      <td>...</td>\n",
       "      <td>0</td>\n",
       "      <td>0</td>\n",
       "      <td>0</td>\n",
       "      <td>0</td>\n",
       "      <td>0</td>\n",
       "      <td>0</td>\n",
       "      <td>1</td>\n",
       "      <td>0.507206</td>\n",
       "      <td>0.520127</td>\n",
       "      <td>0.367248</td>\n",
       "    </tr>\n",
       "    <tr>\n",
       "      <th>1</th>\n",
       "      <td>043205435</td>\n",
       "      <td>None</td>\n",
       "      <td>73562</td>\n",
       "      <td>M1712</td>\n",
       "      <td>200828620105</td>\n",
       "      <td>20211021010</td>\n",
       "      <td>30.0</td>\n",
       "      <td>0</td>\n",
       "      <td>709</td>\n",
       "      <td>0</td>\n",
       "      <td>...</td>\n",
       "      <td>0</td>\n",
       "      <td>0</td>\n",
       "      <td>0</td>\n",
       "      <td>0</td>\n",
       "      <td>0</td>\n",
       "      <td>0</td>\n",
       "      <td>0</td>\n",
       "      <td>0.405691</td>\n",
       "      <td>0.334972</td>\n",
       "      <td>0.364145</td>\n",
       "    </tr>\n",
       "    <tr>\n",
       "      <th>2</th>\n",
       "      <td>060646652</td>\n",
       "      <td>None</td>\n",
       "      <td>93356</td>\n",
       "      <td>U071</td>\n",
       "      <td>201106M66345</td>\n",
       "      <td>20210610010</td>\n",
       "      <td>20.0</td>\n",
       "      <td>0</td>\n",
       "      <td>220</td>\n",
       "      <td>0</td>\n",
       "      <td>...</td>\n",
       "      <td>0</td>\n",
       "      <td>0</td>\n",
       "      <td>0</td>\n",
       "      <td>0</td>\n",
       "      <td>0</td>\n",
       "      <td>0</td>\n",
       "      <td>0</td>\n",
       "      <td>0.590578</td>\n",
       "      <td>0.248204</td>\n",
       "      <td>0.367248</td>\n",
       "    </tr>\n",
       "    <tr>\n",
       "      <th>3</th>\n",
       "      <td>020315693</td>\n",
       "      <td>None</td>\n",
       "      <td>None</td>\n",
       "      <td>I214</td>\n",
       "      <td>201130M67995</td>\n",
       "      <td>20210621010</td>\n",
       "      <td>170.0</td>\n",
       "      <td>2</td>\n",
       "      <td>214</td>\n",
       "      <td>0</td>\n",
       "      <td>...</td>\n",
       "      <td>0</td>\n",
       "      <td>0</td>\n",
       "      <td>0</td>\n",
       "      <td>0</td>\n",
       "      <td>0</td>\n",
       "      <td>0</td>\n",
       "      <td>0</td>\n",
       "      <td>0.249504</td>\n",
       "      <td>0.416649</td>\n",
       "      <td>0.217488</td>\n",
       "    </tr>\n",
       "    <tr>\n",
       "      <th>4</th>\n",
       "      <td>020232673</td>\n",
       "      <td>None</td>\n",
       "      <td>93325</td>\n",
       "      <td>R079</td>\n",
       "      <td>210127M63372</td>\n",
       "      <td>20210610010</td>\n",
       "      <td>20.0</td>\n",
       "      <td>0</td>\n",
       "      <td>139</td>\n",
       "      <td>0</td>\n",
       "      <td>...</td>\n",
       "      <td>0</td>\n",
       "      <td>0</td>\n",
       "      <td>0</td>\n",
       "      <td>0</td>\n",
       "      <td>0</td>\n",
       "      <td>0</td>\n",
       "      <td>0</td>\n",
       "      <td>0.436952</td>\n",
       "      <td>0.254256</td>\n",
       "      <td>0.638110</td>\n",
       "    </tr>\n",
       "  </tbody>\n",
       "</table>\n",
       "<p>5 rows × 47 columns</p>\n",
       "</div>"
      ],
      "text/plain": [
       "  r_bill_fein hdr_pay_to_prov_npi_id li_proc_cd hdr_diag_prim_cd  \\\n",
       "0   455391610                   None      99204             J029   \n",
       "1   043205435                   None      73562            M1712   \n",
       "2   060646652                   None      93356             U071   \n",
       "3   020315693                   None       None             I214   \n",
       "4   020232673                   None      93325             R079   \n",
       "\n",
       "    hdr_clm_tcn     batch_id  line_num  claim_srvc_days  diff_batch_srvc_dt  \\\n",
       "0  200330070256  20211020010      10.0                0                 592   \n",
       "1  200828620105  20211021010      30.0                0                 709   \n",
       "2  201106M66345  20210610010      20.0                0                 220   \n",
       "3  201130M67995  20210621010     170.0                2                 214   \n",
       "4  210127M63372  20210610010      20.0                0                 139   \n",
       "\n",
       "   mod_59_ohe  ...  \\\n",
       "0           0  ...   \n",
       "1           0  ...   \n",
       "2           0  ...   \n",
       "3           0  ...   \n",
       "4           0  ...   \n",
       "\n",
       "   proc_mod_MANUAL_THERAPY_1/>_REGIONS__DISTINCT_PROCEDURAL_SERVICE  \\\n",
       "0                                                  0                  \n",
       "1                                                  0                  \n",
       "2                                                  0                  \n",
       "3                                                  0                  \n",
       "4                                                  0                  \n",
       "\n",
       "   proc_mod_MEASURE_BLOOD_OXYGEN_LEVEL__DISTINCT_PROCEDURAL_SERVICE  \\\n",
       "0                                                  0                  \n",
       "1                                                  0                  \n",
       "2                                                  0                  \n",
       "3                                                  0                  \n",
       "4                                                  0                  \n",
       "\n",
       "   proc_mod_OFFICE_O/P_EST_SF_10-19_MIN__SIGNIFICANT_SEPARATELY_IDENTIFIABLE_EVAL_&_MGMT_SVC_SAME_PHYSCN_AND_DAY  \\\n",
       "0                                                  0                                                               \n",
       "1                                                  0                                                               \n",
       "2                                                  0                                                               \n",
       "3                                                  0                                                               \n",
       "4                                                  0                                                               \n",
       "\n",
       "   proc_mod_PER_PM_REEVAL_EST_PAT_INFANT__SIGNIFICANT_SEPARATELY_IDENTIFIABLE_EVAL_&_MGMT_SVC_SAME_PHYSCN_AND_DAY  \\\n",
       "0                                                  0                                                                \n",
       "1                                                  0                                                                \n",
       "2                                                  0                                                                \n",
       "3                                                  0                                                                \n",
       "4                                                  0                                                                \n",
       "\n",
       "   proc_mod_THER/PROPH/DIAG_INJ_IV_PUSH__DISTINCT_PROCEDURAL_SERVICE  \\\n",
       "0                                                  0                   \n",
       "1                                                  0                   \n",
       "2                                                  0                   \n",
       "3                                                  0                   \n",
       "4                                                  0                   \n",
       "\n",
       "   proc_mod_UNKNOWN_PROCEDURE__NEW_EQUIPMENT  Target  diag_risk  proc_risk  \\\n",
       "0                                          0       1   0.507206   0.520127   \n",
       "1                                          0       0   0.405691   0.334972   \n",
       "2                                          0       0   0.590578   0.248204   \n",
       "3                                          0       0   0.249504   0.416649   \n",
       "4                                          0       0   0.436952   0.254256   \n",
       "\n",
       "   prov_risk  \n",
       "0   0.367248  \n",
       "1   0.364145  \n",
       "2   0.367248  \n",
       "3   0.217488  \n",
       "4   0.638110  \n",
       "\n",
       "[5 rows x 47 columns]"
      ]
     },
     "execution_count": 22,
     "metadata": {},
     "output_type": "execute_result"
    }
   ],
   "source": [
    "hphc_df.limit(5).toPandas()"
   ]
  },
  {
   "cell_type": "code",
   "execution_count": 23,
   "id": "92f4ba55-0d39-439e-a9d8-62fc53518af1",
   "metadata": {},
   "outputs": [],
   "source": [
    "# flbl_df.printSchema()"
   ]
  },
  {
   "cell_type": "code",
   "execution_count": 24,
   "id": "e0fec06d-256e-47e4-a0b8-adab84ee8278",
   "metadata": {},
   "outputs": [],
   "source": [
    "features = [\n",
    "'Target',\n",
    "'claim_srvc_days',\n",
    "'diff_batch_srvc_dt',\n",
    "'mod_59_ohe',\n",
    "'billed_amt_per_unit',\n",
    "'upcoded',\n",
    "'unbundled_0',\n",
    "'unbundled_1',\n",
    "'plc_11',\n",
    "'plc_12',\n",
    "'plc_21',\n",
    "'plc_22',\n",
    "'plc_23',\n",
    "'plc_24',\n",
    "'plc_49',\n",
    "'plc_81',\n",
    "'prov_spec_Chiropractor',\n",
    "'prov_spec_Clinical_Psychology',\n",
    "'prov_spec_Emergency_Medicine',\n",
    "'prov_spec_Gastroenterology',\n",
    "'prov_spec_Independent_Lab_Non-MD',\n",
    "'prov_spec_Occupational_Therapist',\n",
    "'prov_spec_Oncology',\n",
    "'prov_spec_Pathology',\n",
    "'prov_spec_Pediatrics',\n",
    "'prov_spec_Special_Provider_Agreement',\n",
    "'proc_mod_HPV_HIGH-RISK_TYPES__REFERENCE_OUTSIDE_LABORATORY',\n",
    "'proc_mod_L_HRT_ARTERY/VENTRICLE_ANGIO__PROFESSIONAL_COMPONENT',\n",
    "'proc_mod_MANUAL_THERAPY_1/>_REGIONS__DISTINCT_PROCEDURAL_SERVICE',\n",
    "'proc_mod_MEASURE_BLOOD_OXYGEN_LEVEL__DISTINCT_PROCEDURAL_SERVICE',\n",
    "'proc_mod_OFFICE_O/P_EST_SF_10-19_MIN__SIGNIFICANT_SEPARATELY_IDENTIFIABLE_EVAL_&_MGMT_SVC_SAME_PHYSCN_AND_DAY',\n",
    "'proc_mod_PER_PM_REEVAL_EST_PAT_INFANT__SIGNIFICANT_SEPARATELY_IDENTIFIABLE_EVAL_&_MGMT_SVC_SAME_PHYSCN_AND_DAY',\n",
    "'proc_mod_THER/PROPH/DIAG_INJ_IV_PUSH__DISTINCT_PROCEDURAL_SERVICE',\n",
    "'proc_mod_UNKNOWN_PROCEDURE__NEW_EQUIPMENT',\n",
    "'diag_risk',\n",
    "'proc_risk',\n",
    "'prov_risk']"
   ]
  },
  {
   "cell_type": "code",
   "execution_count": 37,
   "id": "8ae9da70-419a-4667-8a50-e5c26649419d",
   "metadata": {},
   "outputs": [],
   "source": [
    "hphc_data = hphc_df.select(features)"
   ]
  },
  {
   "cell_type": "code",
   "execution_count": 38,
   "id": "5ba778ee-0081-4662-a00e-47ce2e230f71",
   "metadata": {},
   "outputs": [
    {
     "name": "stdout",
     "output_type": "stream",
     "text": [
      "root\n",
      " |-- Target: string (nullable = true)\n",
      " |-- claim_srvc_days: integer (nullable = true)\n",
      " |-- diff_batch_srvc_dt: integer (nullable = true)\n",
      " |-- mod_59_ohe: integer (nullable = true)\n",
      " |-- billed_amt_per_unit: double (nullable = true)\n",
      " |-- upcoded: integer (nullable = true)\n",
      " |-- unbundled_0: integer (nullable = true)\n",
      " |-- unbundled_1: integer (nullable = true)\n",
      " |-- plc_11: integer (nullable = true)\n",
      " |-- plc_12: integer (nullable = true)\n",
      " |-- plc_21: integer (nullable = true)\n",
      " |-- plc_22: integer (nullable = true)\n",
      " |-- plc_23: integer (nullable = true)\n",
      " |-- plc_24: integer (nullable = true)\n",
      " |-- plc_49: integer (nullable = true)\n",
      " |-- plc_81: integer (nullable = true)\n",
      " |-- prov_spec_Chiropractor: integer (nullable = true)\n",
      " |-- prov_spec_Clinical_Psychology: integer (nullable = true)\n",
      " |-- prov_spec_Emergency_Medicine: integer (nullable = true)\n",
      " |-- prov_spec_Gastroenterology: integer (nullable = true)\n",
      " |-- prov_spec_Independent_Lab_Non-MD: integer (nullable = true)\n",
      " |-- prov_spec_Occupational_Therapist: integer (nullable = true)\n",
      " |-- prov_spec_Oncology: integer (nullable = true)\n",
      " |-- prov_spec_Pathology: integer (nullable = true)\n",
      " |-- prov_spec_Pediatrics: integer (nullable = true)\n",
      " |-- prov_spec_Special_Provider_Agreement: integer (nullable = true)\n",
      " |-- proc_mod_HPV_HIGH-RISK_TYPES__REFERENCE_OUTSIDE_LABORATORY: integer (nullable = true)\n",
      " |-- proc_mod_L_HRT_ARTERY/VENTRICLE_ANGIO__PROFESSIONAL_COMPONENT: integer (nullable = true)\n",
      " |-- proc_mod_MANUAL_THERAPY_1/>_REGIONS__DISTINCT_PROCEDURAL_SERVICE: integer (nullable = true)\n",
      " |-- proc_mod_MEASURE_BLOOD_OXYGEN_LEVEL__DISTINCT_PROCEDURAL_SERVICE: integer (nullable = true)\n",
      " |-- proc_mod_OFFICE_O/P_EST_SF_10-19_MIN__SIGNIFICANT_SEPARATELY_IDENTIFIABLE_EVAL_&_MGMT_SVC_SAME_PHYSCN_AND_DAY: integer (nullable = true)\n",
      " |-- proc_mod_PER_PM_REEVAL_EST_PAT_INFANT__SIGNIFICANT_SEPARATELY_IDENTIFIABLE_EVAL_&_MGMT_SVC_SAME_PHYSCN_AND_DAY: integer (nullable = true)\n",
      " |-- proc_mod_THER/PROPH/DIAG_INJ_IV_PUSH__DISTINCT_PROCEDURAL_SERVICE: integer (nullable = true)\n",
      " |-- proc_mod_UNKNOWN_PROCEDURE__NEW_EQUIPMENT: integer (nullable = true)\n",
      " |-- diag_risk: double (nullable = true)\n",
      " |-- proc_risk: double (nullable = true)\n",
      " |-- prov_risk: double (nullable = true)\n",
      "\n"
     ]
    }
   ],
   "source": [
    "hphc_data.printSchema()"
   ]
  },
  {
   "cell_type": "code",
   "execution_count": 39,
   "id": "5ec234c1-daeb-4d4a-b05f-8a218857accc",
   "metadata": {},
   "outputs": [
    {
     "name": "stderr",
     "output_type": "stream",
     "text": [
      "[Stage 30:====================================================>   (15 + 1) / 16]\r"
     ]
    },
    {
     "name": "stdout",
     "output_type": "stream",
     "text": [
      "+------+-----+\n",
      "|Target|count|\n",
      "+------+-----+\n",
      "|     0|52024|\n",
      "|     1|15443|\n",
      "+------+-----+\n",
      "\n"
     ]
    },
    {
     "name": "stderr",
     "output_type": "stream",
     "text": [
      "                                                                                \r"
     ]
    }
   ],
   "source": [
    "# train_data = train_data.withColumn('Target', col('Target').cast(StringType()))\n",
    "\n",
    "hphc_data.groupBy('Target').count().show()"
   ]
  },
  {
   "cell_type": "code",
   "execution_count": 40,
   "id": "fad9aa2a-253d-4fe8-8505-90d193a432b1",
   "metadata": {},
   "outputs": [
    {
     "name": "stderr",
     "output_type": "stream",
     "text": [
      "                                                                                \r"
     ]
    },
    {
     "name": "stdout",
     "output_type": "stream",
     "text": [
      "root\n",
      " |-- label: double (nullable = false)\n",
      " |-- vectorized_features: vector (nullable = true)\n",
      " |-- features: vector (nullable = true)\n",
      " |-- Target: string (nullable = true)\n",
      " |-- claim_srvc_days: integer (nullable = true)\n",
      " |-- diff_batch_srvc_dt: integer (nullable = true)\n",
      " |-- mod_59_ohe: integer (nullable = true)\n",
      " |-- billed_amt_per_unit: double (nullable = true)\n",
      " |-- upcoded: integer (nullable = true)\n",
      " |-- unbundled_0: integer (nullable = true)\n",
      " |-- unbundled_1: integer (nullable = true)\n",
      " |-- plc_11: integer (nullable = true)\n",
      " |-- plc_12: integer (nullable = true)\n",
      " |-- plc_21: integer (nullable = true)\n",
      " |-- plc_22: integer (nullable = true)\n",
      " |-- plc_23: integer (nullable = true)\n",
      " |-- plc_24: integer (nullable = true)\n",
      " |-- plc_49: integer (nullable = true)\n",
      " |-- plc_81: integer (nullable = true)\n",
      " |-- prov_spec_Chiropractor: integer (nullable = true)\n",
      " |-- prov_spec_Clinical_Psychology: integer (nullable = true)\n",
      " |-- prov_spec_Emergency_Medicine: integer (nullable = true)\n",
      " |-- prov_spec_Gastroenterology: integer (nullable = true)\n",
      " |-- prov_spec_Independent_Lab_Non-MD: integer (nullable = true)\n",
      " |-- prov_spec_Occupational_Therapist: integer (nullable = true)\n",
      " |-- prov_spec_Oncology: integer (nullable = true)\n",
      " |-- prov_spec_Pathology: integer (nullable = true)\n",
      " |-- prov_spec_Pediatrics: integer (nullable = true)\n",
      " |-- prov_spec_Special_Provider_Agreement: integer (nullable = true)\n",
      " |-- proc_mod_HPV_HIGH-RISK_TYPES__REFERENCE_OUTSIDE_LABORATORY: integer (nullable = true)\n",
      " |-- proc_mod_L_HRT_ARTERY/VENTRICLE_ANGIO__PROFESSIONAL_COMPONENT: integer (nullable = true)\n",
      " |-- proc_mod_MANUAL_THERAPY_1/>_REGIONS__DISTINCT_PROCEDURAL_SERVICE: integer (nullable = true)\n",
      " |-- proc_mod_MEASURE_BLOOD_OXYGEN_LEVEL__DISTINCT_PROCEDURAL_SERVICE: integer (nullable = true)\n",
      " |-- proc_mod_OFFICE_O/P_EST_SF_10-19_MIN__SIGNIFICANT_SEPARATELY_IDENTIFIABLE_EVAL_&_MGMT_SVC_SAME_PHYSCN_AND_DAY: integer (nullable = true)\n",
      " |-- proc_mod_PER_PM_REEVAL_EST_PAT_INFANT__SIGNIFICANT_SEPARATELY_IDENTIFIABLE_EVAL_&_MGMT_SVC_SAME_PHYSCN_AND_DAY: integer (nullable = true)\n",
      " |-- proc_mod_THER/PROPH/DIAG_INJ_IV_PUSH__DISTINCT_PROCEDURAL_SERVICE: integer (nullable = true)\n",
      " |-- proc_mod_UNKNOWN_PROCEDURE__NEW_EQUIPMENT: integer (nullable = true)\n",
      " |-- diag_risk: double (nullable = true)\n",
      " |-- proc_risk: double (nullable = true)\n",
      " |-- prov_risk: double (nullable = true)\n",
      "\n"
     ]
    }
   ],
   "source": [
    "cols = hphc_data.columns\n",
    "pipeline = Pipeline(stages = stages)\n",
    "pipelineModel = pipeline.fit(hphc_data)\n",
    "hphc_data_2 = pipelineModel.transform(hphc_data)\n",
    "selectedCols = ['label', 'vectorized_features','features'] + cols\n",
    "hphc_data_2 = hphc_data_2.select(selectedCols)\n",
    "hphc_data_2.printSchema()"
   ]
  },
  {
   "cell_type": "code",
   "execution_count": 45,
   "id": "6adfb7c1-7f6b-45c9-bd48-5f81d74d9025",
   "metadata": {},
   "outputs": [],
   "source": [
    "predictions_hphc = model.transform(hphc_data_2)"
   ]
  },
  {
   "cell_type": "code",
   "execution_count": 46,
   "id": "99e080b6-3cf5-46cd-a5a9-b49ab88e899f",
   "metadata": {},
   "outputs": [
    {
     "name": "stderr",
     "output_type": "stream",
     "text": [
      "                                                                                \r"
     ]
    },
    {
     "name": "stdout",
     "output_type": "stream",
     "text": [
      "Confusion matrix, without normalization\n",
      "[[11496  3947]\n",
      " [29060 22964]]\n"
     ]
    },
    {
     "data": {
      "image/png": "[encoded data removed]",
      "text/plain": [
       "<Figure size 432x288 with 2 Axes>"
      ]
     },
     "metadata": {
      "needs_background": "light"
     },
     "output_type": "display_data"
    }
   ],
   "source": [
    "y_true = predictions_hphc.select(\"label\")\n",
    "y_true = y_true.toPandas()\n",
    "\n",
    "y_pred = predictions_hphc.select(\"prediction\")\n",
    "y_pred = y_pred.toPandas()\n",
    "\n",
    "cnf_matrix = confusion_matrix(y_true, y_pred,labels=class_names)\n",
    "#cnf_matrix\n",
    "plt.figure()\n",
    "plot_confusion_matrix(cnf_matrix, classes=class_names,\n",
    "                      title='Confusion matrix')\n",
    "plt.show()"
   ]
  },
  {
   "cell_type": "code",
   "execution_count": 47,
   "id": "22fc5c72-87b3-4044-9a0a-225f25514020",
   "metadata": {},
   "outputs": [
    {
     "name": "stdout",
     "output_type": "stream",
     "text": [
      "LR Model accuracy:  0.5107682274297064\n",
      "LR Model precision:  0.28345990728868725\n",
      "LR Model recall:  0.7444149452826523\n",
      "LR Model F1-Score:  0.205289380167503\n"
     ]
    }
   ],
   "source": [
    "accuracy=(cnf_matrix[0][0]+cnf_matrix[1][1])/cnf_matrix.sum()\n",
    "precision=(cnf_matrix[0][0])/(cnf_matrix[0][0]+cnf_matrix[1][0])\n",
    "recall=(cnf_matrix[0][0])/(cnf_matrix[0][0]+cnf_matrix[0][1])\n",
    "print(\"LR Model accuracy: \",accuracy)\n",
    "print(\"LR Model precision: \",precision)\n",
    "print(\"LR Model recall: \",recall)\n",
    "print(\"LR Model F1-Score: \",(precision*recall)/(precision + recall))"
   ]
  },
  {
   "cell_type": "code",
   "execution_count": 48,
   "id": "026f1986-4634-48dc-bcf0-8402774b8f67",
   "metadata": {},
   "outputs": [
    {
     "name": "stderr",
     "output_type": "stream",
     "text": [
      "[Stage 47:====================================================>   (15 + 1) / 16]\r"
     ]
    },
    {
     "name": "stdout",
     "output_type": "stream",
     "text": [
      "Accuracy :  0.5107682274297064\n"
     ]
    },
    {
     "name": "stderr",
     "output_type": "stream",
     "text": [
      "                                                                                \r"
     ]
    }
   ],
   "source": [
    "accuracy = predictions_hphc.filter(predictions_hphc.label == predictions_hphc.prediction).count() / float(predictions_hphc.count())\n",
    "print(\"Accuracy : \",accuracy)"
   ]
  },
  {
   "cell_type": "code",
   "execution_count": 49,
   "id": "90208450-9e8c-4e62-9e0c-226fe66a4208",
   "metadata": {},
   "outputs": [
    {
     "name": "stderr",
     "output_type": "stream",
     "text": [
      "                                                                                \r"
     ]
    },
    {
     "name": "stdout",
     "output_type": "stream",
     "text": [
      "Test Area Under ROC 0.6304874995107085\n"
     ]
    }
   ],
   "source": [
    "from pyspark.ml.evaluation import BinaryClassificationEvaluator\n",
    "evaluator = BinaryClassificationEvaluator()\n",
    "print('Test Area Under ROC', evaluator.evaluate(predictions_hphc))"
   ]
  },
  {
   "cell_type": "code",
   "execution_count": null,
   "id": "1b42587b-c49f-4fed-9107-b7191c9b2b03",
   "metadata": {},
   "outputs": [],
   "source": []
  },
  {
   "cell_type": "code",
   "execution_count": null,
   "id": "757fa29f-aff5-4ab0-945f-7131e223264a",
   "metadata": {},
   "outputs": [],
   "source": []
  },
  {
   "cell_type": "code",
   "execution_count": null,
   "id": "f06b7304-24c8-494b-ac9d-fde3b6044f75",
   "metadata": {},
   "outputs": [],
   "source": []
  },
  {
   "cell_type": "code",
   "execution_count": null,
   "id": "97e4efbc-002d-4444-a56d-a2b2900d2010",
   "metadata": {},
   "outputs": [],
   "source": []
  },
  {
   "cell_type": "markdown",
   "id": "044357c3-5cfc-43ea-b190-db025b543b6b",
   "metadata": {},
   "source": [
    "## BSCA Score"
   ]
  },
  {
   "cell_type": "code",
   "execution_count": 50,
   "id": "5967f1e7-e2ec-4416-be72-c228bd505eec",
   "metadata": {},
   "outputs": [
    {
     "name": "stderr",
     "output_type": "stream",
     "text": [
      "                                                                                \r"
     ]
    },
    {
     "data": {
      "text/plain": [
       "452655"
      ]
     },
     "execution_count": 50,
     "metadata": {},
     "output_type": "execute_result"
    }
   ],
   "source": [
    "bsca_df = spark.read.parquet(\"s3a://as-bucket/client_data/bsca/ads_w_risk/data.parquet/*.parquet\")\n",
    "bsca_df.count()"
   ]
  },
  {
   "cell_type": "code",
   "execution_count": 51,
   "id": "77275fcb-b652-4781-b0ca-4ada8d4defb2",
   "metadata": {},
   "outputs": [
    {
     "data": {
      "text/html": [
       "<div>\n",
       "<style scoped>\n",
       "    .dataframe tbody tr th:only-of-type {\n",
       "        vertical-align: middle;\n",
       "    }\n",
       "\n",
       "    .dataframe tbody tr th {\n",
       "        vertical-align: top;\n",
       "    }\n",
       "\n",
       "    .dataframe thead th {\n",
       "        text-align: right;\n",
       "    }\n",
       "</style>\n",
       "<table border=\"1\" class=\"dataframe\">\n",
       "  <thead>\n",
       "    <tr style=\"text-align: right;\">\n",
       "      <th></th>\n",
       "      <th>r_bill_fein</th>\n",
       "      <th>hdr_pay_to_prov_npi_id</th>\n",
       "      <th>li_proc_cd</th>\n",
       "      <th>hdr_diag_prim_cd</th>\n",
       "      <th>hdr_clm_tcn</th>\n",
       "      <th>batch_id</th>\n",
       "      <th>line_num</th>\n",
       "      <th>claim_srvc_days</th>\n",
       "      <th>diff_batch_srvc_dt</th>\n",
       "      <th>mod_59_ohe</th>\n",
       "      <th>...</th>\n",
       "      <th>proc_mod_MANUAL_THERAPY_1/&gt;_REGIONS__DISTINCT_PROCEDURAL_SERVICE</th>\n",
       "      <th>proc_mod_MEASURE_BLOOD_OXYGEN_LEVEL__DISTINCT_PROCEDURAL_SERVICE</th>\n",
       "      <th>proc_mod_OFFICE_O/P_EST_SF_10-19_MIN__SIGNIFICANT_SEPARATELY_IDENTIFIABLE_EVAL_&amp;_MGMT_SVC_SAME_PHYSCN_AND_DAY</th>\n",
       "      <th>proc_mod_PER_PM_REEVAL_EST_PAT_INFANT__SIGNIFICANT_SEPARATELY_IDENTIFIABLE_EVAL_&amp;_MGMT_SVC_SAME_PHYSCN_AND_DAY</th>\n",
       "      <th>proc_mod_THER/PROPH/DIAG_INJ_IV_PUSH__DISTINCT_PROCEDURAL_SERVICE</th>\n",
       "      <th>proc_mod_UNKNOWN_PROCEDURE__NEW_EQUIPMENT</th>\n",
       "      <th>Target</th>\n",
       "      <th>diag_risk</th>\n",
       "      <th>proc_risk</th>\n",
       "      <th>prov_risk</th>\n",
       "    </tr>\n",
       "  </thead>\n",
       "  <tbody>\n",
       "    <tr>\n",
       "      <th>0</th>\n",
       "      <td>900939967</td>\n",
       "      <td>1336615988</td>\n",
       "      <td>G0283</td>\n",
       "      <td>M25511</td>\n",
       "      <td>000425644400</td>\n",
       "      <td>20210609010</td>\n",
       "      <td>4.0</td>\n",
       "      <td>0</td>\n",
       "      <td>111</td>\n",
       "      <td>0</td>\n",
       "      <td>...</td>\n",
       "      <td>0</td>\n",
       "      <td>0</td>\n",
       "      <td>0</td>\n",
       "      <td>0</td>\n",
       "      <td>0</td>\n",
       "      <td>0</td>\n",
       "      <td>0</td>\n",
       "      <td>0.582221</td>\n",
       "      <td>0.634166</td>\n",
       "      <td>0.420715</td>\n",
       "    </tr>\n",
       "    <tr>\n",
       "      <th>1</th>\n",
       "      <td>581972773</td>\n",
       "      <td>1396794483</td>\n",
       "      <td>S9365</td>\n",
       "      <td>K909</td>\n",
       "      <td>000426987100</td>\n",
       "      <td>20210630010</td>\n",
       "      <td>4.0</td>\n",
       "      <td>2</td>\n",
       "      <td>352</td>\n",
       "      <td>0</td>\n",
       "      <td>...</td>\n",
       "      <td>0</td>\n",
       "      <td>0</td>\n",
       "      <td>0</td>\n",
       "      <td>0</td>\n",
       "      <td>0</td>\n",
       "      <td>0</td>\n",
       "      <td>0</td>\n",
       "      <td>0.474465</td>\n",
       "      <td>0.482243</td>\n",
       "      <td>0.855337</td>\n",
       "    </tr>\n",
       "    <tr>\n",
       "      <th>2</th>\n",
       "      <td>None</td>\n",
       "      <td>1730356353</td>\n",
       "      <td>99232</td>\n",
       "      <td>S06339A</td>\n",
       "      <td>000428177300</td>\n",
       "      <td>20210707010</td>\n",
       "      <td>9.0</td>\n",
       "      <td>10</td>\n",
       "      <td>598</td>\n",
       "      <td>0</td>\n",
       "      <td>...</td>\n",
       "      <td>0</td>\n",
       "      <td>0</td>\n",
       "      <td>0</td>\n",
       "      <td>0</td>\n",
       "      <td>0</td>\n",
       "      <td>0</td>\n",
       "      <td>0</td>\n",
       "      <td>0.432316</td>\n",
       "      <td>0.293588</td>\n",
       "      <td>0.393100</td>\n",
       "    </tr>\n",
       "    <tr>\n",
       "      <th>3</th>\n",
       "      <td>954457756</td>\n",
       "      <td>1316984388</td>\n",
       "      <td>A9575</td>\n",
       "      <td>C160</td>\n",
       "      <td>000437328300</td>\n",
       "      <td>20210924010</td>\n",
       "      <td>2.0</td>\n",
       "      <td>0</td>\n",
       "      <td>141</td>\n",
       "      <td>0</td>\n",
       "      <td>...</td>\n",
       "      <td>0</td>\n",
       "      <td>0</td>\n",
       "      <td>0</td>\n",
       "      <td>0</td>\n",
       "      <td>0</td>\n",
       "      <td>0</td>\n",
       "      <td>0</td>\n",
       "      <td>0.178250</td>\n",
       "      <td>0.299911</td>\n",
       "      <td>0.218522</td>\n",
       "    </tr>\n",
       "    <tr>\n",
       "      <th>4</th>\n",
       "      <td>954457756</td>\n",
       "      <td>1316984388</td>\n",
       "      <td>96415</td>\n",
       "      <td>Z5111</td>\n",
       "      <td>000437333600</td>\n",
       "      <td>20210924010</td>\n",
       "      <td>16.0</td>\n",
       "      <td>0</td>\n",
       "      <td>94</td>\n",
       "      <td>0</td>\n",
       "      <td>...</td>\n",
       "      <td>0</td>\n",
       "      <td>0</td>\n",
       "      <td>0</td>\n",
       "      <td>0</td>\n",
       "      <td>0</td>\n",
       "      <td>0</td>\n",
       "      <td>0</td>\n",
       "      <td>0.196282</td>\n",
       "      <td>0.154650</td>\n",
       "      <td>0.218522</td>\n",
       "    </tr>\n",
       "  </tbody>\n",
       "</table>\n",
       "<p>5 rows × 47 columns</p>\n",
       "</div>"
      ],
      "text/plain": [
       "  r_bill_fein hdr_pay_to_prov_npi_id li_proc_cd hdr_diag_prim_cd  \\\n",
       "0   900939967             1336615988      G0283           M25511   \n",
       "1   581972773             1396794483      S9365             K909   \n",
       "2        None             1730356353      99232          S06339A   \n",
       "3   954457756             1316984388      A9575             C160   \n",
       "4   954457756             1316984388      96415            Z5111   \n",
       "\n",
       "    hdr_clm_tcn     batch_id  line_num  claim_srvc_days  diff_batch_srvc_dt  \\\n",
       "0  000425644400  20210609010       4.0                0                 111   \n",
       "1  000426987100  20210630010       4.0                2                 352   \n",
       "2  000428177300  20210707010       9.0               10                 598   \n",
       "3  000437328300  20210924010       2.0                0                 141   \n",
       "4  000437333600  20210924010      16.0                0                  94   \n",
       "\n",
       "   mod_59_ohe  ...  \\\n",
       "0           0  ...   \n",
       "1           0  ...   \n",
       "2           0  ...   \n",
       "3           0  ...   \n",
       "4           0  ...   \n",
       "\n",
       "   proc_mod_MANUAL_THERAPY_1/>_REGIONS__DISTINCT_PROCEDURAL_SERVICE  \\\n",
       "0                                                  0                  \n",
       "1                                                  0                  \n",
       "2                                                  0                  \n",
       "3                                                  0                  \n",
       "4                                                  0                  \n",
       "\n",
       "   proc_mod_MEASURE_BLOOD_OXYGEN_LEVEL__DISTINCT_PROCEDURAL_SERVICE  \\\n",
       "0                                                  0                  \n",
       "1                                                  0                  \n",
       "2                                                  0                  \n",
       "3                                                  0                  \n",
       "4                                                  0                  \n",
       "\n",
       "   proc_mod_OFFICE_O/P_EST_SF_10-19_MIN__SIGNIFICANT_SEPARATELY_IDENTIFIABLE_EVAL_&_MGMT_SVC_SAME_PHYSCN_AND_DAY  \\\n",
       "0                                                  0                                                               \n",
       "1                                                  0                                                               \n",
       "2                                                  0                                                               \n",
       "3                                                  0                                                               \n",
       "4                                                  0                                                               \n",
       "\n",
       "   proc_mod_PER_PM_REEVAL_EST_PAT_INFANT__SIGNIFICANT_SEPARATELY_IDENTIFIABLE_EVAL_&_MGMT_SVC_SAME_PHYSCN_AND_DAY  \\\n",
       "0                                                  0                                                                \n",
       "1                                                  0                                                                \n",
       "2                                                  0                                                                \n",
       "3                                                  0                                                                \n",
       "4                                                  0                                                                \n",
       "\n",
       "   proc_mod_THER/PROPH/DIAG_INJ_IV_PUSH__DISTINCT_PROCEDURAL_SERVICE  \\\n",
       "0                                                  0                   \n",
       "1                                                  0                   \n",
       "2                                                  0                   \n",
       "3                                                  0                   \n",
       "4                                                  0                   \n",
       "\n",
       "   proc_mod_UNKNOWN_PROCEDURE__NEW_EQUIPMENT  Target  diag_risk  proc_risk  \\\n",
       "0                                          0       0   0.582221   0.634166   \n",
       "1                                          0       0   0.474465   0.482243   \n",
       "2                                          0       0   0.432316   0.293588   \n",
       "3                                          0       0   0.178250   0.299911   \n",
       "4                                          0       0   0.196282   0.154650   \n",
       "\n",
       "   prov_risk  \n",
       "0   0.420715  \n",
       "1   0.855337  \n",
       "2   0.393100  \n",
       "3   0.218522  \n",
       "4   0.218522  \n",
       "\n",
       "[5 rows x 47 columns]"
      ]
     },
     "execution_count": 51,
     "metadata": {},
     "output_type": "execute_result"
    }
   ],
   "source": [
    "bsca_df.limit(5).toPandas()"
   ]
  },
  {
   "cell_type": "code",
   "execution_count": 52,
   "id": "be4f383b-a11f-4066-83e5-bde840944206",
   "metadata": {},
   "outputs": [
    {
     "name": "stdout",
     "output_type": "stream",
     "text": [
      "root\n",
      " |-- r_bill_fein: string (nullable = true)\n",
      " |-- hdr_pay_to_prov_npi_id: string (nullable = true)\n",
      " |-- li_proc_cd: string (nullable = true)\n",
      " |-- hdr_diag_prim_cd: string (nullable = true)\n",
      " |-- hdr_clm_tcn: string (nullable = true)\n",
      " |-- batch_id: string (nullable = true)\n",
      " |-- line_num: double (nullable = true)\n",
      " |-- claim_srvc_days: integer (nullable = true)\n",
      " |-- diff_batch_srvc_dt: integer (nullable = true)\n",
      " |-- mod_59_ohe: integer (nullable = true)\n",
      " |-- billed_amt_per_unit: double (nullable = true)\n",
      " |-- upcoded: integer (nullable = true)\n",
      " |-- unbundled_0: integer (nullable = true)\n",
      " |-- unbundled_1: integer (nullable = true)\n",
      " |-- plc_11: integer (nullable = true)\n",
      " |-- plc_12: integer (nullable = true)\n",
      " |-- plc_21: integer (nullable = true)\n",
      " |-- plc_22: integer (nullable = true)\n",
      " |-- plc_23: integer (nullable = true)\n",
      " |-- plc_24: integer (nullable = true)\n",
      " |-- plc_49: integer (nullable = true)\n",
      " |-- plc_81: integer (nullable = true)\n",
      " |-- prov_spec_Certified_Acupuncturist: integer (nullable = true)\n",
      " |-- prov_spec_Chiropractor: integer (nullable = true)\n",
      " |-- prov_spec_Clinical_Lab_MD_Directed: integer (nullable = true)\n",
      " |-- prov_spec_Clinical_Psychology: integer (nullable = true)\n",
      " |-- prov_spec_Emergency_Medicine: integer (nullable = true)\n",
      " |-- prov_spec_Gastroenterology: integer (nullable = true)\n",
      " |-- prov_spec_Independent_Lab_Non-MD: integer (nullable = true)\n",
      " |-- prov_spec_Occupational_Therapist: integer (nullable = true)\n",
      " |-- prov_spec_Oncology: integer (nullable = true)\n",
      " |-- prov_spec_Pathology: integer (nullable = true)\n",
      " |-- prov_spec_Pathology_Anatomic_&_Clinical: integer (nullable = true)\n",
      " |-- prov_spec_Pediatrics: integer (nullable = true)\n",
      " |-- prov_spec_Special_Provider_Agreement: integer (nullable = true)\n",
      " |-- proc_mod_HPV_HIGH-RISK_TYPES__REFERENCE_OUTSIDE_LABORATORY: integer (nullable = true)\n",
      " |-- proc_mod_L_HRT_ARTERY/VENTRICLE_ANGIO__PROFESSIONAL_COMPONENT: integer (nullable = true)\n",
      " |-- proc_mod_MANUAL_THERAPY_1/>_REGIONS__DISTINCT_PROCEDURAL_SERVICE: integer (nullable = true)\n",
      " |-- proc_mod_MEASURE_BLOOD_OXYGEN_LEVEL__DISTINCT_PROCEDURAL_SERVICE: integer (nullable = true)\n",
      " |-- proc_mod_OFFICE_O/P_EST_SF_10-19_MIN__SIGNIFICANT_SEPARATELY_IDENTIFIABLE_EVAL_&_MGMT_SVC_SAME_PHYSCN_AND_DAY: integer (nullable = true)\n",
      " |-- proc_mod_PER_PM_REEVAL_EST_PAT_INFANT__SIGNIFICANT_SEPARATELY_IDENTIFIABLE_EVAL_&_MGMT_SVC_SAME_PHYSCN_AND_DAY: integer (nullable = true)\n",
      " |-- proc_mod_THER/PROPH/DIAG_INJ_IV_PUSH__DISTINCT_PROCEDURAL_SERVICE: integer (nullable = true)\n",
      " |-- proc_mod_UNKNOWN_PROCEDURE__NEW_EQUIPMENT: integer (nullable = true)\n",
      " |-- Target: string (nullable = true)\n",
      " |-- diag_risk: double (nullable = true)\n",
      " |-- proc_risk: double (nullable = true)\n",
      " |-- prov_risk: double (nullable = true)\n",
      "\n"
     ]
    }
   ],
   "source": [
    "bsca_df.printSchema()"
   ]
  },
  {
   "cell_type": "code",
   "execution_count": 53,
   "id": "f853d2b8-2b42-4176-ad96-0bd085d7958a",
   "metadata": {},
   "outputs": [],
   "source": [
    "\n",
    "features = [\n",
    "'Target',\n",
    "'claim_srvc_days',\n",
    "'diff_batch_srvc_dt',\n",
    "'mod_59_ohe',\n",
    "'billed_amt_per_unit',\n",
    "'upcoded',\n",
    "'unbundled_0',\n",
    "'unbundled_1',\n",
    "'plc_11',\n",
    "'plc_12',\n",
    "'plc_21',\n",
    "'plc_22',\n",
    "'plc_23',\n",
    "'plc_24',\n",
    "'plc_49',\n",
    "'plc_81',\n",
    "'prov_spec_Chiropractor',\n",
    "'prov_spec_Clinical_Psychology',\n",
    "'prov_spec_Emergency_Medicine',\n",
    "'prov_spec_Gastroenterology',\n",
    "'prov_spec_Independent_Lab_Non-MD',\n",
    "'prov_spec_Occupational_Therapist',\n",
    "'prov_spec_Oncology',\n",
    "'prov_spec_Pathology',\n",
    "'prov_spec_Pediatrics',\n",
    "'prov_spec_Special_Provider_Agreement',\n",
    "'proc_mod_HPV_HIGH-RISK_TYPES__REFERENCE_OUTSIDE_LABORATORY',\n",
    "'proc_mod_L_HRT_ARTERY/VENTRICLE_ANGIO__PROFESSIONAL_COMPONENT',\n",
    "'proc_mod_MANUAL_THERAPY_1/>_REGIONS__DISTINCT_PROCEDURAL_SERVICE',\n",
    "'proc_mod_MEASURE_BLOOD_OXYGEN_LEVEL__DISTINCT_PROCEDURAL_SERVICE',\n",
    "'proc_mod_OFFICE_O/P_EST_SF_10-19_MIN__SIGNIFICANT_SEPARATELY_IDENTIFIABLE_EVAL_&_MGMT_SVC_SAME_PHYSCN_AND_DAY',\n",
    "'proc_mod_PER_PM_REEVAL_EST_PAT_INFANT__SIGNIFICANT_SEPARATELY_IDENTIFIABLE_EVAL_&_MGMT_SVC_SAME_PHYSCN_AND_DAY',\n",
    "'proc_mod_THER/PROPH/DIAG_INJ_IV_PUSH__DISTINCT_PROCEDURAL_SERVICE',\n",
    "'proc_mod_UNKNOWN_PROCEDURE__NEW_EQUIPMENT',\n",
    "'diag_risk',\n",
    "'proc_risk',\n",
    "'prov_risk']\n"
   ]
  },
  {
   "cell_type": "code",
   "execution_count": 54,
   "id": "4bfba3a2-ee50-46ff-aa12-cd2c7c231d11",
   "metadata": {},
   "outputs": [],
   "source": [
    "bsca_data =  bsca_df.select(features)"
   ]
  },
  {
   "cell_type": "code",
   "execution_count": 55,
   "id": "453c47e6-14de-487f-93d3-121992fadb3d",
   "metadata": {},
   "outputs": [
    {
     "name": "stderr",
     "output_type": "stream",
     "text": [
      "                                                                                \r"
     ]
    },
    {
     "name": "stdout",
     "output_type": "stream",
     "text": [
      "root\n",
      " |-- label: double (nullable = false)\n",
      " |-- vectorized_features: vector (nullable = true)\n",
      " |-- features: vector (nullable = true)\n",
      " |-- Target: string (nullable = true)\n",
      " |-- claim_srvc_days: integer (nullable = true)\n",
      " |-- diff_batch_srvc_dt: integer (nullable = true)\n",
      " |-- mod_59_ohe: integer (nullable = true)\n",
      " |-- billed_amt_per_unit: double (nullable = true)\n",
      " |-- upcoded: integer (nullable = true)\n",
      " |-- unbundled_0: integer (nullable = true)\n",
      " |-- unbundled_1: integer (nullable = true)\n",
      " |-- plc_11: integer (nullable = true)\n",
      " |-- plc_12: integer (nullable = true)\n",
      " |-- plc_21: integer (nullable = true)\n",
      " |-- plc_22: integer (nullable = true)\n",
      " |-- plc_23: integer (nullable = true)\n",
      " |-- plc_24: integer (nullable = true)\n",
      " |-- plc_49: integer (nullable = true)\n",
      " |-- plc_81: integer (nullable = true)\n",
      " |-- prov_spec_Chiropractor: integer (nullable = true)\n",
      " |-- prov_spec_Clinical_Psychology: integer (nullable = true)\n",
      " |-- prov_spec_Emergency_Medicine: integer (nullable = true)\n",
      " |-- prov_spec_Gastroenterology: integer (nullable = true)\n",
      " |-- prov_spec_Independent_Lab_Non-MD: integer (nullable = true)\n",
      " |-- prov_spec_Occupational_Therapist: integer (nullable = true)\n",
      " |-- prov_spec_Oncology: integer (nullable = true)\n",
      " |-- prov_spec_Pathology: integer (nullable = true)\n",
      " |-- prov_spec_Pediatrics: integer (nullable = true)\n",
      " |-- prov_spec_Special_Provider_Agreement: integer (nullable = true)\n",
      " |-- proc_mod_HPV_HIGH-RISK_TYPES__REFERENCE_OUTSIDE_LABORATORY: integer (nullable = true)\n",
      " |-- proc_mod_L_HRT_ARTERY/VENTRICLE_ANGIO__PROFESSIONAL_COMPONENT: integer (nullable = true)\n",
      " |-- proc_mod_MANUAL_THERAPY_1/>_REGIONS__DISTINCT_PROCEDURAL_SERVICE: integer (nullable = true)\n",
      " |-- proc_mod_MEASURE_BLOOD_OXYGEN_LEVEL__DISTINCT_PROCEDURAL_SERVICE: integer (nullable = true)\n",
      " |-- proc_mod_OFFICE_O/P_EST_SF_10-19_MIN__SIGNIFICANT_SEPARATELY_IDENTIFIABLE_EVAL_&_MGMT_SVC_SAME_PHYSCN_AND_DAY: integer (nullable = true)\n",
      " |-- proc_mod_PER_PM_REEVAL_EST_PAT_INFANT__SIGNIFICANT_SEPARATELY_IDENTIFIABLE_EVAL_&_MGMT_SVC_SAME_PHYSCN_AND_DAY: integer (nullable = true)\n",
      " |-- proc_mod_THER/PROPH/DIAG_INJ_IV_PUSH__DISTINCT_PROCEDURAL_SERVICE: integer (nullable = true)\n",
      " |-- proc_mod_UNKNOWN_PROCEDURE__NEW_EQUIPMENT: integer (nullable = true)\n",
      " |-- diag_risk: double (nullable = true)\n",
      " |-- proc_risk: double (nullable = true)\n",
      " |-- prov_risk: double (nullable = true)\n",
      "\n"
     ]
    }
   ],
   "source": [
    "cols = bsca_data.columns\n",
    "pipeline = Pipeline(stages = stages)\n",
    "pipelineModel = pipeline.fit(bsca_data)\n",
    "bsca_data_2 = pipelineModel.transform(bsca_data)\n",
    "selectedCols = ['label', 'vectorized_features','features'] + cols\n",
    "bsca_data_2 = bsca_data_2.select(selectedCols)\n",
    "bsca_data_2.printSchema()"
   ]
  },
  {
   "cell_type": "code",
   "execution_count": 56,
   "id": "6200fb9c-eef6-4960-bb65-0b66116a156f",
   "metadata": {},
   "outputs": [],
   "source": [
    "predictions_bsca = model.transform(bsca_data_2)"
   ]
  },
  {
   "cell_type": "code",
   "execution_count": 58,
   "id": "83992604-bd1c-4454-8639-3a8d474384fa",
   "metadata": {},
   "outputs": [
    {
     "name": "stderr",
     "output_type": "stream",
     "text": [
      "                                                                                \r"
     ]
    },
    {
     "name": "stdout",
     "output_type": "stream",
     "text": [
      "Confusion matrix, without normalization\n",
      "[[ 91884  71701]\n",
      " [115846 173224]]\n"
     ]
    },
    {
     "data": {
      "image/png": "[encoded data removed]",
      "text/plain": [
       "<Figure size 432x288 with 2 Axes>"
      ]
     },
     "metadata": {
      "needs_background": "light"
     },
     "output_type": "display_data"
    }
   ],
   "source": [
    "y_true = predictions_bsca.select(\"label\")\n",
    "y_true = y_true.toPandas()\n",
    "\n",
    "y_pred = predictions_bsca.select(\"prediction\")\n",
    "y_pred = y_pred.toPandas()\n",
    "\n",
    "cnf_matrix = confusion_matrix(y_true, y_pred,labels=class_names)\n",
    "#cnf_matrix\n",
    "plt.figure()\n",
    "plot_confusion_matrix(cnf_matrix, classes=class_names,\n",
    "                      title='Confusion matrix')\n",
    "plt.show()"
   ]
  },
  {
   "cell_type": "code",
   "execution_count": 59,
   "id": "f4a16dd5-8520-445d-9fc6-67a3d17b81a7",
   "metadata": {},
   "outputs": [
    {
     "name": "stdout",
     "output_type": "stream",
     "text": [
      "LR Model accuracy:  0.5856734157360463\n",
      "LR Model precision:  0.44232417079863284\n",
      "LR Model recall:  0.561689641470795\n",
      "LR Model F1-Score:  0.24745566432813113\n"
     ]
    }
   ],
   "source": [
    "\n",
    "accuracy=(cnf_matrix[0][0]+cnf_matrix[1][1])/cnf_matrix.sum()\n",
    "precision=(cnf_matrix[0][0])/(cnf_matrix[0][0]+cnf_matrix[1][0])\n",
    "recall=(cnf_matrix[0][0])/(cnf_matrix[0][0]+cnf_matrix[0][1])\n",
    "print(\"LR Model accuracy: \",accuracy)\n",
    "print(\"LR Model precision: \",precision)\n",
    "print(\"LR Model recall: \",recall)\n",
    "print(\"LR Model F1-Score: \",(precision*recall)/(precision + recall))"
   ]
  },
  {
   "cell_type": "code",
   "execution_count": 60,
   "id": "bba26f0d-3178-464d-9d4c-6880ffd82104",
   "metadata": {},
   "outputs": [
    {
     "name": "stderr",
     "output_type": "stream",
     "text": [
      "[Stage 79:=================================================>      (14 + 2) / 16]\r"
     ]
    },
    {
     "name": "stdout",
     "output_type": "stream",
     "text": [
      "Accuracy :  0.5856734157360463\n"
     ]
    },
    {
     "name": "stderr",
     "output_type": "stream",
     "text": [
      "                                                                                \r"
     ]
    }
   ],
   "source": [
    "accuracy = predictions_bsca.filter(predictions_bsca.label == predictions_bsca.prediction).count() / float(predictions_bsca.count())\n",
    "print(\"Accuracy : \",accuracy)"
   ]
  },
  {
   "cell_type": "code",
   "execution_count": 61,
   "id": "87ecde36-c910-4b26-9f23-b3d707273a6d",
   "metadata": {},
   "outputs": [
    {
     "name": "stderr",
     "output_type": "stream",
     "text": [
      "                                                                                \r"
     ]
    },
    {
     "name": "stdout",
     "output_type": "stream",
     "text": [
      "Test Area Under ROC 0.5992446759090124\n"
     ]
    }
   ],
   "source": [
    "from pyspark.ml.evaluation import BinaryClassificationEvaluator\n",
    "evaluator = BinaryClassificationEvaluator()\n",
    "print('Test Area Under ROC', evaluator.evaluate(predictions_bsca))"
   ]
  },
  {
   "cell_type": "code",
   "execution_count": 62,
   "id": "edd92393-b432-4d84-a350-f22488f53aaa",
   "metadata": {},
   "outputs": [
    {
     "data": {
      "text/plain": [
       "452655"
      ]
     },
     "execution_count": 62,
     "metadata": {},
     "output_type": "execute_result"
    }
   ],
   "source": [
    "predictions_bsca.count()"
   ]
  },
  {
   "cell_type": "code",
   "execution_count": null,
   "id": "4fdd5573-4a02-4796-a44d-3e14a31fe6d8",
   "metadata": {},
   "outputs": [],
   "source": []
  },
  {
   "cell_type": "code",
   "execution_count": null,
   "id": "2ff5f7db-0f04-478a-b682-9053fa08e104",
   "metadata": {},
   "outputs": [],
   "source": []
  },
  {
   "cell_type": "markdown",
   "id": "2f1b7eb9-038f-411e-b751-ea77ab6b9077",
   "metadata": {},
   "source": [
    "## FLBL Score"
   ]
  },
  {
   "cell_type": "code",
   "execution_count": 63,
   "id": "f31c45d6-b4c6-496b-b770-c36e172b88f8",
   "metadata": {},
   "outputs": [
    {
     "data": {
      "text/plain": [
       "369279"
      ]
     },
     "execution_count": 63,
     "metadata": {},
     "output_type": "execute_result"
    }
   ],
   "source": [
    "flbl_df = spark.read.parquet(\"s3a://as-bucket/client_data/flbl/ads_w_risk/data.parquet/*.parquet\")\n",
    "flbl_df.count()"
   ]
  },
  {
   "cell_type": "code",
   "execution_count": 64,
   "id": "7c09e76e-a756-4124-a7a7-8f7875c62849",
   "metadata": {},
   "outputs": [
    {
     "data": {
      "text/html": [
       "<div>\n",
       "<style scoped>\n",
       "    .dataframe tbody tr th:only-of-type {\n",
       "        vertical-align: middle;\n",
       "    }\n",
       "\n",
       "    .dataframe tbody tr th {\n",
       "        vertical-align: top;\n",
       "    }\n",
       "\n",
       "    .dataframe thead th {\n",
       "        text-align: right;\n",
       "    }\n",
       "</style>\n",
       "<table border=\"1\" class=\"dataframe\">\n",
       "  <thead>\n",
       "    <tr style=\"text-align: right;\">\n",
       "      <th></th>\n",
       "      <th>r_bill_fein</th>\n",
       "      <th>hdr_pay_to_prov_npi_id</th>\n",
       "      <th>li_proc_cd</th>\n",
       "      <th>hdr_diag_prim_cd</th>\n",
       "      <th>hdr_clm_tcn</th>\n",
       "      <th>batch_id</th>\n",
       "      <th>line_num</th>\n",
       "      <th>claim_srvc_days</th>\n",
       "      <th>diff_batch_srvc_dt</th>\n",
       "      <th>mod_59_ohe</th>\n",
       "      <th>...</th>\n",
       "      <th>proc_mod_MANUAL_THERAPY_1/&gt;_REGIONS__DISTINCT_PROCEDURAL_SERVICE</th>\n",
       "      <th>proc_mod_MEASURE_BLOOD_OXYGEN_LEVEL__DISTINCT_PROCEDURAL_SERVICE</th>\n",
       "      <th>proc_mod_OFFICE_O/P_EST_SF_10-19_MIN__SIGNIFICANT_SEPARATELY_IDENTIFIABLE_EVAL_&amp;_MGMT_SVC_SAME_PHYSCN_AND_DAY</th>\n",
       "      <th>proc_mod_PER_PM_REEVAL_EST_PAT_INFANT__SIGNIFICANT_SEPARATELY_IDENTIFIABLE_EVAL_&amp;_MGMT_SVC_SAME_PHYSCN_AND_DAY</th>\n",
       "      <th>proc_mod_THER/PROPH/DIAG_INJ_IV_PUSH__DISTINCT_PROCEDURAL_SERVICE</th>\n",
       "      <th>proc_mod_UNKNOWN_PROCEDURE__NEW_EQUIPMENT</th>\n",
       "      <th>Target</th>\n",
       "      <th>diag_risk</th>\n",
       "      <th>proc_risk</th>\n",
       "      <th>prov_risk</th>\n",
       "    </tr>\n",
       "  </thead>\n",
       "  <tbody>\n",
       "    <tr>\n",
       "      <th>0</th>\n",
       "      <td>590714812</td>\n",
       "      <td>None</td>\n",
       "      <td>93005</td>\n",
       "      <td>M1711</td>\n",
       "      <td>E100000897827210</td>\n",
       "      <td>20210623010</td>\n",
       "      <td>32.0</td>\n",
       "      <td>21</td>\n",
       "      <td>36</td>\n",
       "      <td>0</td>\n",
       "      <td>...</td>\n",
       "      <td>0</td>\n",
       "      <td>0</td>\n",
       "      <td>0</td>\n",
       "      <td>0</td>\n",
       "      <td>0</td>\n",
       "      <td>0</td>\n",
       "      <td>0</td>\n",
       "      <td>0.430526</td>\n",
       "      <td>0.356951</td>\n",
       "      <td>0.198873</td>\n",
       "    </tr>\n",
       "    <tr>\n",
       "      <th>1</th>\n",
       "      <td>219844877</td>\n",
       "      <td>None</td>\n",
       "      <td>25605</td>\n",
       "      <td>S52521A</td>\n",
       "      <td>E300000897766526</td>\n",
       "      <td>20210622010</td>\n",
       "      <td>1.0</td>\n",
       "      <td>0</td>\n",
       "      <td>105</td>\n",
       "      <td>0</td>\n",
       "      <td>...</td>\n",
       "      <td>0</td>\n",
       "      <td>0</td>\n",
       "      <td>0</td>\n",
       "      <td>0</td>\n",
       "      <td>0</td>\n",
       "      <td>0</td>\n",
       "      <td>1</td>\n",
       "      <td>0.465639</td>\n",
       "      <td>0.215520</td>\n",
       "      <td>0.343892</td>\n",
       "    </tr>\n",
       "    <tr>\n",
       "      <th>2</th>\n",
       "      <td>270730954</td>\n",
       "      <td>None</td>\n",
       "      <td>87481</td>\n",
       "      <td>N390</td>\n",
       "      <td>E300000905324033</td>\n",
       "      <td>20210730010</td>\n",
       "      <td>2.0</td>\n",
       "      <td>0</td>\n",
       "      <td>18</td>\n",
       "      <td>1</td>\n",
       "      <td>...</td>\n",
       "      <td>0</td>\n",
       "      <td>0</td>\n",
       "      <td>0</td>\n",
       "      <td>0</td>\n",
       "      <td>0</td>\n",
       "      <td>0</td>\n",
       "      <td>0</td>\n",
       "      <td>0.507492</td>\n",
       "      <td>0.804155</td>\n",
       "      <td>0.153976</td>\n",
       "    </tr>\n",
       "    <tr>\n",
       "      <th>3</th>\n",
       "      <td>596000308</td>\n",
       "      <td>None</td>\n",
       "      <td>A0425</td>\n",
       "      <td>R42</td>\n",
       "      <td>E300000914339145</td>\n",
       "      <td>20210903010</td>\n",
       "      <td>2.0</td>\n",
       "      <td>0</td>\n",
       "      <td>149</td>\n",
       "      <td>0</td>\n",
       "      <td>...</td>\n",
       "      <td>0</td>\n",
       "      <td>0</td>\n",
       "      <td>0</td>\n",
       "      <td>0</td>\n",
       "      <td>0</td>\n",
       "      <td>0</td>\n",
       "      <td>1</td>\n",
       "      <td>0.492483</td>\n",
       "      <td>0.618701</td>\n",
       "      <td>0.343892</td>\n",
       "    </tr>\n",
       "    <tr>\n",
       "      <th>4</th>\n",
       "      <td>123456789</td>\n",
       "      <td>None</td>\n",
       "      <td>99213</td>\n",
       "      <td>D235</td>\n",
       "      <td>E300000923431986</td>\n",
       "      <td>20211019010</td>\n",
       "      <td>2.0</td>\n",
       "      <td>0</td>\n",
       "      <td>141</td>\n",
       "      <td>0</td>\n",
       "      <td>...</td>\n",
       "      <td>0</td>\n",
       "      <td>0</td>\n",
       "      <td>0</td>\n",
       "      <td>0</td>\n",
       "      <td>0</td>\n",
       "      <td>0</td>\n",
       "      <td>1</td>\n",
       "      <td>0.392155</td>\n",
       "      <td>0.469090</td>\n",
       "      <td>0.343892</td>\n",
       "    </tr>\n",
       "  </tbody>\n",
       "</table>\n",
       "<p>5 rows × 47 columns</p>\n",
       "</div>"
      ],
      "text/plain": [
       "  r_bill_fein hdr_pay_to_prov_npi_id li_proc_cd hdr_diag_prim_cd  \\\n",
       "0   590714812                   None      93005            M1711   \n",
       "1   219844877                   None      25605          S52521A   \n",
       "2   270730954                   None      87481             N390   \n",
       "3   596000308                   None      A0425              R42   \n",
       "4   123456789                   None      99213             D235   \n",
       "\n",
       "        hdr_clm_tcn     batch_id  line_num  claim_srvc_days  \\\n",
       "0  E100000897827210  20210623010      32.0               21   \n",
       "1  E300000897766526  20210622010       1.0                0   \n",
       "2  E300000905324033  20210730010       2.0                0   \n",
       "3  E300000914339145  20210903010       2.0                0   \n",
       "4  E300000923431986  20211019010       2.0                0   \n",
       "\n",
       "   diff_batch_srvc_dt  mod_59_ohe  ...  \\\n",
       "0                  36           0  ...   \n",
       "1                 105           0  ...   \n",
       "2                  18           1  ...   \n",
       "3                 149           0  ...   \n",
       "4                 141           0  ...   \n",
       "\n",
       "   proc_mod_MANUAL_THERAPY_1/>_REGIONS__DISTINCT_PROCEDURAL_SERVICE  \\\n",
       "0                                                  0                  \n",
       "1                                                  0                  \n",
       "2                                                  0                  \n",
       "3                                                  0                  \n",
       "4                                                  0                  \n",
       "\n",
       "   proc_mod_MEASURE_BLOOD_OXYGEN_LEVEL__DISTINCT_PROCEDURAL_SERVICE  \\\n",
       "0                                                  0                  \n",
       "1                                                  0                  \n",
       "2                                                  0                  \n",
       "3                                                  0                  \n",
       "4                                                  0                  \n",
       "\n",
       "   proc_mod_OFFICE_O/P_EST_SF_10-19_MIN__SIGNIFICANT_SEPARATELY_IDENTIFIABLE_EVAL_&_MGMT_SVC_SAME_PHYSCN_AND_DAY  \\\n",
       "0                                                  0                                                               \n",
       "1                                                  0                                                               \n",
       "2                                                  0                                                               \n",
       "3                                                  0                                                               \n",
       "4                                                  0                                                               \n",
       "\n",
       "   proc_mod_PER_PM_REEVAL_EST_PAT_INFANT__SIGNIFICANT_SEPARATELY_IDENTIFIABLE_EVAL_&_MGMT_SVC_SAME_PHYSCN_AND_DAY  \\\n",
       "0                                                  0                                                                \n",
       "1                                                  0                                                                \n",
       "2                                                  0                                                                \n",
       "3                                                  0                                                                \n",
       "4                                                  0                                                                \n",
       "\n",
       "   proc_mod_THER/PROPH/DIAG_INJ_IV_PUSH__DISTINCT_PROCEDURAL_SERVICE  \\\n",
       "0                                                  0                   \n",
       "1                                                  0                   \n",
       "2                                                  0                   \n",
       "3                                                  0                   \n",
       "4                                                  0                   \n",
       "\n",
       "   proc_mod_UNKNOWN_PROCEDURE__NEW_EQUIPMENT  Target  diag_risk  proc_risk  \\\n",
       "0                                          0       0   0.430526   0.356951   \n",
       "1                                          0       1   0.465639   0.215520   \n",
       "2                                          0       0   0.507492   0.804155   \n",
       "3                                          0       1   0.492483   0.618701   \n",
       "4                                          0       1   0.392155   0.469090   \n",
       "\n",
       "   prov_risk  \n",
       "0   0.198873  \n",
       "1   0.343892  \n",
       "2   0.153976  \n",
       "3   0.343892  \n",
       "4   0.343892  \n",
       "\n",
       "[5 rows x 47 columns]"
      ]
     },
     "execution_count": 64,
     "metadata": {},
     "output_type": "execute_result"
    }
   ],
   "source": [
    "flbl_df.limit(5).toPandas()"
   ]
  },
  {
   "cell_type": "code",
   "execution_count": 65,
   "id": "c210cdda-6720-4a3f-9453-ef8cd220bbf2",
   "metadata": {},
   "outputs": [
    {
     "name": "stdout",
     "output_type": "stream",
     "text": [
      "root\n",
      " |-- r_bill_fein: string (nullable = true)\n",
      " |-- hdr_pay_to_prov_npi_id: string (nullable = true)\n",
      " |-- li_proc_cd: string (nullable = true)\n",
      " |-- hdr_diag_prim_cd: string (nullable = true)\n",
      " |-- hdr_clm_tcn: string (nullable = true)\n",
      " |-- batch_id: string (nullable = true)\n",
      " |-- line_num: double (nullable = true)\n",
      " |-- claim_srvc_days: integer (nullable = true)\n",
      " |-- diff_batch_srvc_dt: integer (nullable = true)\n",
      " |-- mod_59_ohe: integer (nullable = true)\n",
      " |-- billed_amt_per_unit: double (nullable = true)\n",
      " |-- upcoded: integer (nullable = true)\n",
      " |-- unbundled_0: integer (nullable = true)\n",
      " |-- unbundled_1: integer (nullable = true)\n",
      " |-- plc_11: integer (nullable = true)\n",
      " |-- plc_12: integer (nullable = true)\n",
      " |-- plc_21: integer (nullable = true)\n",
      " |-- plc_22: integer (nullable = true)\n",
      " |-- plc_23: integer (nullable = true)\n",
      " |-- plc_24: integer (nullable = true)\n",
      " |-- plc_49: integer (nullable = true)\n",
      " |-- plc_81: integer (nullable = true)\n",
      " |-- prov_spec_Certified_Acupuncturist: integer (nullable = true)\n",
      " |-- prov_spec_Chiropractor: integer (nullable = true)\n",
      " |-- prov_spec_Clinical_Lab_MD_Directed: integer (nullable = true)\n",
      " |-- prov_spec_Clinical_Psychology: integer (nullable = true)\n",
      " |-- prov_spec_Emergency_Medicine: integer (nullable = true)\n",
      " |-- prov_spec_Gastroenterology: integer (nullable = true)\n",
      " |-- prov_spec_Independent_Lab_Non-MD: integer (nullable = true)\n",
      " |-- prov_spec_Occupational_Therapist: integer (nullable = true)\n",
      " |-- prov_spec_Oncology: integer (nullable = true)\n",
      " |-- prov_spec_Pathology: integer (nullable = true)\n",
      " |-- prov_spec_Pathology_Anatomic_&_Clinical: integer (nullable = true)\n",
      " |-- prov_spec_Pediatrics: integer (nullable = true)\n",
      " |-- prov_spec_Special_Provider_Agreement: integer (nullable = true)\n",
      " |-- proc_mod_HPV_HIGH-RISK_TYPES__REFERENCE_OUTSIDE_LABORATORY: integer (nullable = true)\n",
      " |-- proc_mod_L_HRT_ARTERY/VENTRICLE_ANGIO__PROFESSIONAL_COMPONENT: integer (nullable = true)\n",
      " |-- proc_mod_MANUAL_THERAPY_1/>_REGIONS__DISTINCT_PROCEDURAL_SERVICE: integer (nullable = true)\n",
      " |-- proc_mod_MEASURE_BLOOD_OXYGEN_LEVEL__DISTINCT_PROCEDURAL_SERVICE: integer (nullable = true)\n",
      " |-- proc_mod_OFFICE_O/P_EST_SF_10-19_MIN__SIGNIFICANT_SEPARATELY_IDENTIFIABLE_EVAL_&_MGMT_SVC_SAME_PHYSCN_AND_DAY: integer (nullable = true)\n",
      " |-- proc_mod_PER_PM_REEVAL_EST_PAT_INFANT__SIGNIFICANT_SEPARATELY_IDENTIFIABLE_EVAL_&_MGMT_SVC_SAME_PHYSCN_AND_DAY: integer (nullable = true)\n",
      " |-- proc_mod_THER/PROPH/DIAG_INJ_IV_PUSH__DISTINCT_PROCEDURAL_SERVICE: integer (nullable = true)\n",
      " |-- proc_mod_UNKNOWN_PROCEDURE__NEW_EQUIPMENT: integer (nullable = true)\n",
      " |-- Target: string (nullable = true)\n",
      " |-- diag_risk: double (nullable = true)\n",
      " |-- proc_risk: double (nullable = true)\n",
      " |-- prov_risk: double (nullable = true)\n",
      "\n"
     ]
    }
   ],
   "source": [
    "flbl_df.printSchema()"
   ]
  },
  {
   "cell_type": "code",
   "execution_count": 66,
   "id": "5361b97b-4abd-4242-9bb0-29b491be6197",
   "metadata": {},
   "outputs": [],
   "source": [
    "\n",
    "features = [\n",
    "'Target',\n",
    "'claim_srvc_days',\n",
    "'diff_batch_srvc_dt',\n",
    "'mod_59_ohe',\n",
    "'billed_amt_per_unit',\n",
    "'upcoded',\n",
    "'unbundled_0',\n",
    "'unbundled_1',\n",
    "'plc_11',\n",
    "'plc_12',\n",
    "'plc_21',\n",
    "'plc_22',\n",
    "'plc_23',\n",
    "'plc_24',\n",
    "'plc_49',\n",
    "'plc_81',\n",
    "'prov_spec_Chiropractor',\n",
    "'prov_spec_Clinical_Psychology',\n",
    "'prov_spec_Emergency_Medicine',\n",
    "'prov_spec_Gastroenterology',\n",
    "'prov_spec_Independent_Lab_Non-MD',\n",
    "'prov_spec_Occupational_Therapist',\n",
    "'prov_spec_Oncology',\n",
    "'prov_spec_Pathology',\n",
    "'prov_spec_Pediatrics',\n",
    "'prov_spec_Special_Provider_Agreement',\n",
    "'proc_mod_HPV_HIGH-RISK_TYPES__REFERENCE_OUTSIDE_LABORATORY',\n",
    "'proc_mod_L_HRT_ARTERY/VENTRICLE_ANGIO__PROFESSIONAL_COMPONENT',\n",
    "'proc_mod_MANUAL_THERAPY_1/>_REGIONS__DISTINCT_PROCEDURAL_SERVICE',\n",
    "'proc_mod_MEASURE_BLOOD_OXYGEN_LEVEL__DISTINCT_PROCEDURAL_SERVICE',\n",
    "'proc_mod_OFFICE_O/P_EST_SF_10-19_MIN__SIGNIFICANT_SEPARATELY_IDENTIFIABLE_EVAL_&_MGMT_SVC_SAME_PHYSCN_AND_DAY',\n",
    "'proc_mod_PER_PM_REEVAL_EST_PAT_INFANT__SIGNIFICANT_SEPARATELY_IDENTIFIABLE_EVAL_&_MGMT_SVC_SAME_PHYSCN_AND_DAY',\n",
    "'proc_mod_THER/PROPH/DIAG_INJ_IV_PUSH__DISTINCT_PROCEDURAL_SERVICE',\n",
    "'proc_mod_UNKNOWN_PROCEDURE__NEW_EQUIPMENT',\n",
    "'diag_risk',\n",
    "'proc_risk',\n",
    "'prov_risk']"
   ]
  },
  {
   "cell_type": "code",
   "execution_count": 67,
   "id": "510b4211-bab8-478b-b50d-b3dbccf7d2da",
   "metadata": {},
   "outputs": [],
   "source": [
    "flbl_data =  flbl_df.select(features)"
   ]
  },
  {
   "cell_type": "code",
   "execution_count": 68,
   "id": "86d63564-0063-4442-b7d3-de4402330e43",
   "metadata": {},
   "outputs": [
    {
     "name": "stderr",
     "output_type": "stream",
     "text": [
      "                                                                                \r"
     ]
    },
    {
     "name": "stdout",
     "output_type": "stream",
     "text": [
      "root\n",
      " |-- label: double (nullable = false)\n",
      " |-- vectorized_features: vector (nullable = true)\n",
      " |-- features: vector (nullable = true)\n",
      " |-- Target: string (nullable = true)\n",
      " |-- claim_srvc_days: integer (nullable = true)\n",
      " |-- diff_batch_srvc_dt: integer (nullable = true)\n",
      " |-- mod_59_ohe: integer (nullable = true)\n",
      " |-- billed_amt_per_unit: double (nullable = true)\n",
      " |-- upcoded: integer (nullable = true)\n",
      " |-- unbundled_0: integer (nullable = true)\n",
      " |-- unbundled_1: integer (nullable = true)\n",
      " |-- plc_11: integer (nullable = true)\n",
      " |-- plc_12: integer (nullable = true)\n",
      " |-- plc_21: integer (nullable = true)\n",
      " |-- plc_22: integer (nullable = true)\n",
      " |-- plc_23: integer (nullable = true)\n",
      " |-- plc_24: integer (nullable = true)\n",
      " |-- plc_49: integer (nullable = true)\n",
      " |-- plc_81: integer (nullable = true)\n",
      " |-- prov_spec_Chiropractor: integer (nullable = true)\n",
      " |-- prov_spec_Clinical_Psychology: integer (nullable = true)\n",
      " |-- prov_spec_Emergency_Medicine: integer (nullable = true)\n",
      " |-- prov_spec_Gastroenterology: integer (nullable = true)\n",
      " |-- prov_spec_Independent_Lab_Non-MD: integer (nullable = true)\n",
      " |-- prov_spec_Occupational_Therapist: integer (nullable = true)\n",
      " |-- prov_spec_Oncology: integer (nullable = true)\n",
      " |-- prov_spec_Pathology: integer (nullable = true)\n",
      " |-- prov_spec_Pediatrics: integer (nullable = true)\n",
      " |-- prov_spec_Special_Provider_Agreement: integer (nullable = true)\n",
      " |-- proc_mod_HPV_HIGH-RISK_TYPES__REFERENCE_OUTSIDE_LABORATORY: integer (nullable = true)\n",
      " |-- proc_mod_L_HRT_ARTERY/VENTRICLE_ANGIO__PROFESSIONAL_COMPONENT: integer (nullable = true)\n",
      " |-- proc_mod_MANUAL_THERAPY_1/>_REGIONS__DISTINCT_PROCEDURAL_SERVICE: integer (nullable = true)\n",
      " |-- proc_mod_MEASURE_BLOOD_OXYGEN_LEVEL__DISTINCT_PROCEDURAL_SERVICE: integer (nullable = true)\n",
      " |-- proc_mod_OFFICE_O/P_EST_SF_10-19_MIN__SIGNIFICANT_SEPARATELY_IDENTIFIABLE_EVAL_&_MGMT_SVC_SAME_PHYSCN_AND_DAY: integer (nullable = true)\n",
      " |-- proc_mod_PER_PM_REEVAL_EST_PAT_INFANT__SIGNIFICANT_SEPARATELY_IDENTIFIABLE_EVAL_&_MGMT_SVC_SAME_PHYSCN_AND_DAY: integer (nullable = true)\n",
      " |-- proc_mod_THER/PROPH/DIAG_INJ_IV_PUSH__DISTINCT_PROCEDURAL_SERVICE: integer (nullable = true)\n",
      " |-- proc_mod_UNKNOWN_PROCEDURE__NEW_EQUIPMENT: integer (nullable = true)\n",
      " |-- diag_risk: double (nullable = true)\n",
      " |-- proc_risk: double (nullable = true)\n",
      " |-- prov_risk: double (nullable = true)\n",
      "\n"
     ]
    }
   ],
   "source": [
    "cols = flbl_data.columns\n",
    "pipeline = Pipeline(stages = stages)\n",
    "pipelineModel = pipeline.fit(flbl_data)\n",
    "flbl_data_2 = pipelineModel.transform(flbl_data)\n",
    "selectedCols = ['label', 'vectorized_features','features'] + cols\n",
    "flbl_data_2 = flbl_data_2.select(selectedCols)\n",
    "flbl_data_2.printSchema()"
   ]
  },
  {
   "cell_type": "code",
   "execution_count": 69,
   "id": "0d229305-9bb3-4c52-a600-edab84debc2a",
   "metadata": {},
   "outputs": [],
   "source": [
    "predictions_flbl = model.transform(flbl_data_2)"
   ]
  },
  {
   "cell_type": "code",
   "execution_count": 70,
   "id": "44fb4878-2bc6-4ca6-8ea2-77f658395db5",
   "metadata": {},
   "outputs": [
    {
     "name": "stderr",
     "output_type": "stream",
     "text": [
      "                                                                                \r"
     ]
    },
    {
     "name": "stdout",
     "output_type": "stream",
     "text": [
      "Confusion matrix, without normalization\n",
      "[[ 64043  54970]\n",
      " [ 71329 178937]]\n"
     ]
    },
    {
     "data": {
      "image/png": "[encoded data removed]",
      "text/plain": [
       "<Figure size 432x288 with 2 Axes>"
      ]
     },
     "metadata": {
      "needs_background": "light"
     },
     "output_type": "display_data"
    }
   ],
   "source": [
    "y_true = predictions_flbl.select(\"label\")\n",
    "y_true = y_true.toPandas()\n",
    "\n",
    "y_pred = predictions_flbl.select(\"prediction\")\n",
    "y_pred = y_pred.toPandas()\n",
    "\n",
    "cnf_matrix = confusion_matrix(y_true, y_pred,labels=class_names)\n",
    "#cnf_matrix\n",
    "plt.figure()\n",
    "plot_confusion_matrix(cnf_matrix, classes=class_names,\n",
    "                      title='Confusion matrix')\n",
    "plt.show()"
   ]
  },
  {
   "cell_type": "code",
   "execution_count": 71,
   "id": "908c9e36-2a6e-450f-ae1a-1bb0133d1e67",
   "metadata": {},
   "outputs": [
    {
     "name": "stdout",
     "output_type": "stream",
     "text": [
      "LR Model accuracy:  0.6579848840578533\n",
      "LR Model precision:  0.4730889696539905\n",
      "LR Model recall:  0.5381176846226883\n",
      "LR Model F1-Score:  0.25175619631660673\n"
     ]
    }
   ],
   "source": [
    "\n",
    "accuracy=(cnf_matrix[0][0]+cnf_matrix[1][1])/cnf_matrix.sum()\n",
    "precision=(cnf_matrix[0][0])/(cnf_matrix[0][0]+cnf_matrix[1][0])\n",
    "recall=(cnf_matrix[0][0])/(cnf_matrix[0][0]+cnf_matrix[0][1])\n",
    "print(\"LR Model accuracy: \",accuracy)\n",
    "print(\"LR Model precision: \",precision)\n",
    "print(\"LR Model recall: \",recall)\n",
    "print(\"LR Model F1-Score: \",(precision*recall)/(precision + recall))"
   ]
  },
  {
   "cell_type": "code",
   "execution_count": 72,
   "id": "5239f3c1-44c4-4a65-acdd-5c1007ed1201",
   "metadata": {},
   "outputs": [
    {
     "name": "stderr",
     "output_type": "stream",
     "text": [
      "[Stage 112:===================================================>   (15 + 1) / 16]\r"
     ]
    },
    {
     "name": "stdout",
     "output_type": "stream",
     "text": [
      "Accuracy :  0.6579848840578533\n"
     ]
    },
    {
     "name": "stderr",
     "output_type": "stream",
     "text": [
      "                                                                                \r"
     ]
    }
   ],
   "source": [
    "accuracy = predictions_flbl.filter(predictions_flbl.label == predictions_flbl.prediction).count() / float(predictions_flbl.count())\n",
    "print(\"Accuracy : \",accuracy)\n"
   ]
  },
  {
   "cell_type": "code",
   "execution_count": 73,
   "id": "bf1c5df0-559f-4bac-9c10-0933ba41d0e0",
   "metadata": {},
   "outputs": [
    {
     "name": "stderr",
     "output_type": "stream",
     "text": [
      "                                                                                \r"
     ]
    },
    {
     "name": "stdout",
     "output_type": "stream",
     "text": [
      "Test Area Under ROC 0.6687760842664559\n"
     ]
    }
   ],
   "source": [
    "from pyspark.ml.evaluation import BinaryClassificationEvaluator\n",
    "evaluator = BinaryClassificationEvaluator()\n",
    "print('Test Area Under ROC', evaluator.evaluate(predictions_flbl))"
   ]
  },
  {
   "cell_type": "code",
   "execution_count": 74,
   "id": "27e137e4-ccd8-4ab8-8d26-333e78fcb3a2",
   "metadata": {},
   "outputs": [
    {
     "name": "stderr",
     "output_type": "stream",
     "text": [
      "                                                                                \r"
     ]
    },
    {
     "data": {
      "text/plain": [
       "369279"
      ]
     },
     "execution_count": 74,
     "metadata": {},
     "output_type": "execute_result"
    }
   ],
   "source": [
    "predictions_flbl.count()"
   ]
  },
  {
   "cell_type": "code",
   "execution_count": null,
   "id": "53cf2288-6186-40f5-b7f9-5b3dfab3538b",
   "metadata": {},
   "outputs": [],
   "source": []
  },
  {
   "cell_type": "code",
   "execution_count": null,
   "id": "6ec088fd-1ab7-4b1f-b282-a75ad508ceaa",
   "metadata": {},
   "outputs": [],
   "source": []
  },
  {
   "cell_type": "code",
   "execution_count": null,
   "id": "a0d34d96-224b-4c38-971b-60774badae9d",
   "metadata": {},
   "outputs": [],
   "source": []
  },
  {
   "cell_type": "code",
   "execution_count": null,
   "id": "51d7b8f8-8ce8-4ce1-80a9-3740d164bdf9",
   "metadata": {},
   "outputs": [],
   "source": []
  },
  {
   "cell_type": "code",
   "execution_count": null,
   "id": "6ed4214b-b8a7-4913-a62d-51c454eda213",
   "metadata": {},
   "outputs": [],
   "source": []
  },
  {
   "cell_type": "code",
   "execution_count": null,
   "id": "55e40dd6-8148-4e05-b692-f46e7278ce16",
   "metadata": {},
   "outputs": [],
   "source": []
  },
  {
   "cell_type": "code",
   "execution_count": null,
   "id": "5297dc2c-e454-4802-a102-54c9bb362181",
   "metadata": {},
   "outputs": [],
   "source": []
  },
  {
   "cell_type": "code",
   "execution_count": 76,
   "id": "43fb6728-092e-473e-afaf-efcab5384cce",
   "metadata": {},
   "outputs": [
    {
     "ename": "RuntimeError",
     "evalue": "No training summary available for this LogisticRegressionModel",
     "output_type": "error",
     "traceback": [
      "\u001b[0;31m---------------------------------------------------------------------------\u001b[0m",
      "\u001b[0;31mRuntimeError\u001b[0m                              Traceback (most recent call last)",
      "Input \u001b[0;32mIn [76]\u001b[0m, in \u001b[0;36m<cell line: 1>\u001b[0;34m()\u001b[0m\n\u001b[0;32m----> 1\u001b[0m \u001b[43mmodel\u001b[49m\u001b[38;5;241;43m.\u001b[39;49m\u001b[43msummary\u001b[49m\n",
      "File \u001b[0;32m/opt/spark/python/pyspark/ml/classification.py:1251\u001b[0m, in \u001b[0;36mLogisticRegressionModel.summary\u001b[0;34m(self)\u001b[0m\n\u001b[1;32m   1248\u001b[0m         \u001b[38;5;28;01mreturn\u001b[39;00m LogisticRegressionTrainingSummary(\u001b[38;5;28msuper\u001b[39m(LogisticRegressionModel,\n\u001b[1;32m   1249\u001b[0m                                                        \u001b[38;5;28mself\u001b[39m)\u001b[38;5;241m.\u001b[39msummary)\n\u001b[1;32m   1250\u001b[0m \u001b[38;5;28;01melse\u001b[39;00m:\n\u001b[0;32m-> 1251\u001b[0m     \u001b[38;5;28;01mraise\u001b[39;00m \u001b[38;5;167;01mRuntimeError\u001b[39;00m(\u001b[38;5;124m\"\u001b[39m\u001b[38;5;124mNo training summary available for this \u001b[39m\u001b[38;5;132;01m%s\u001b[39;00m\u001b[38;5;124m\"\u001b[39m \u001b[38;5;241m%\u001b[39m\n\u001b[1;32m   1252\u001b[0m                        \u001b[38;5;28mself\u001b[39m\u001b[38;5;241m.\u001b[39m\u001b[38;5;18m__class__\u001b[39m\u001b[38;5;241m.\u001b[39m\u001b[38;5;18m__name__\u001b[39m)\n",
      "\u001b[0;31mRuntimeError\u001b[0m: No training summary available for this LogisticRegressionModel"
     ]
    }
   ],
   "source": [
    "model.summary"
   ]
  },
  {
   "cell_type": "code",
   "execution_count": 108,
   "id": "ee55d16e-4658-4dc5-ac76-94dd36593bab",
   "metadata": {},
   "outputs": [],
   "source": [
    "w = list(model.coefficients)"
   ]
  },
  {
   "cell_type": "code",
   "execution_count": null,
   "id": "987fd774-da49-4226-987b-90bfd693fe32",
   "metadata": {},
   "outputs": [],
   "source": []
  },
  {
   "cell_type": "code",
   "execution_count": null,
   "id": "80c515ed-4e7f-41b4-a9d2-9299f7ab8b86",
   "metadata": {},
   "outputs": [],
   "source": []
  },
  {
   "cell_type": "code",
   "execution_count": 109,
   "id": "78ec4e18-6300-454a-b8f8-237be8264998",
   "metadata": {},
   "outputs": [],
   "source": [
    "\n",
    "feature_names = [\n",
    "'claim_srvc_days',\n",
    "'diff_batch_srvc_dt',\n",
    "'mod_59_ohe',\n",
    "'billed_amt_per_unit',\n",
    "'upcoded',\n",
    "'unbundled_0',\n",
    "'unbundled_1',\n",
    "'plc_11',\n",
    "'plc_12',\n",
    "'plc_21',\n",
    "'plc_22',\n",
    "'plc_23',\n",
    "'plc_24',\n",
    "'plc_49',\n",
    "'plc_81',\n",
    "'prov_spec_Chiropractor',\n",
    "'prov_spec_Clinical_Psychology',\n",
    "'prov_spec_Emergency_Medicine',\n",
    "'prov_spec_Gastroenterology',\n",
    "'prov_spec_Independent_Lab_Non-MD',\n",
    "'prov_spec_Occupational_Therapist',\n",
    "'prov_spec_Oncology',\n",
    "'prov_spec_Pathology',\n",
    "'prov_spec_Pediatrics',\n",
    "'prov_spec_Special_Provider_Agreement',\n",
    "'proc_mod_HPV_HIGH-RISK_TYPES__REFERENCE_OUTSIDE_LABORATORY',\n",
    "'proc_mod_L_HRT_ARTERY/VENTRICLE_ANGIO__PROFESSIONAL_COMPONENT',\n",
    "'proc_mod_MANUAL_THERAPY_1/>_REGIONS__DISTINCT_PROCEDURAL_SERVICE',\n",
    "'proc_mod_MEASURE_BLOOD_OXYGEN_LEVEL__DISTINCT_PROCEDURAL_SERVICE',\n",
    "'proc_mod_OFFICE_O/P_EST_SF_10-19_MIN__SIGNIFICANT_SEPARATELY_IDENTIFIABLE_EVAL_&_MGMT_SVC_SAME_PHYSCN_AND_DAY',\n",
    "'proc_mod_PER_PM_REEVAL_EST_PAT_INFANT__SIGNIFICANT_SEPARATELY_IDENTIFIABLE_EVAL_&_MGMT_SVC_SAME_PHYSCN_AND_DAY',\n",
    "'proc_mod_THER/PROPH/DIAG_INJ_IV_PUSH__DISTINCT_PROCEDURAL_SERVICE',\n",
    "'proc_mod_UNKNOWN_PROCEDURE__NEW_EQUIPMENT',\n",
    "'diag_risk',\n",
    "'proc_risk',\n",
    "'prov_risk']"
   ]
  },
  {
   "cell_type": "code",
   "execution_count": 110,
   "id": "43fa1b24-a193-44ee-a0ee-4c53d3e71e1a",
   "metadata": {},
   "outputs": [
    {
     "data": {
      "text/plain": [
       "36"
      ]
     },
     "execution_count": 110,
     "metadata": {},
     "output_type": "execute_result"
    }
   ],
   "source": [
    "len(w)"
   ]
  },
  {
   "cell_type": "code",
   "execution_count": 111,
   "id": "f0b4e7b0-49bd-4797-a7e7-6888bb0fa4f6",
   "metadata": {},
   "outputs": [],
   "source": [
    "import math"
   ]
  },
  {
   "cell_type": "code",
   "execution_count": 117,
   "id": "77b83877-1112-491a-aa06-cbeac0e656e0",
   "metadata": {},
   "outputs": [],
   "source": [
    "feature_importance = pd.DataFrame(feature_names, columns = [\"feature\"])\n",
    "feature_importance[\"importance\"] = w\n",
    "feature_importance = feature_importance.sort_values(by = [\"importance\"], ascending=False)\n",
    " \n"
   ]
  },
  {
   "cell_type": "code",
   "execution_count": 118,
   "id": "48a4c793-914f-4d76-ad85-babd1aceeb9f",
   "metadata": {},
   "outputs": [
    {
     "data": {
      "text/html": [
       "<div>\n",
       "<style scoped>\n",
       "    .dataframe tbody tr th:only-of-type {\n",
       "        vertical-align: middle;\n",
       "    }\n",
       "\n",
       "    .dataframe tbody tr th {\n",
       "        vertical-align: top;\n",
       "    }\n",
       "\n",
       "    .dataframe thead th {\n",
       "        text-align: right;\n",
       "    }\n",
       "</style>\n",
       "<table border=\"1\" class=\"dataframe\">\n",
       "  <thead>\n",
       "    <tr style=\"text-align: right;\">\n",
       "      <th></th>\n",
       "      <th>feature</th>\n",
       "      <th>importance</th>\n",
       "    </tr>\n",
       "  </thead>\n",
       "  <tbody>\n",
       "    <tr>\n",
       "      <th>34</th>\n",
       "      <td>proc_risk</td>\n",
       "      <td>0.726349</td>\n",
       "    </tr>\n",
       "    <tr>\n",
       "      <th>35</th>\n",
       "      <td>prov_risk</td>\n",
       "      <td>0.653009</td>\n",
       "    </tr>\n",
       "    <tr>\n",
       "      <th>33</th>\n",
       "      <td>diag_risk</td>\n",
       "      <td>0.059042</td>\n",
       "    </tr>\n",
       "    <tr>\n",
       "      <th>4</th>\n",
       "      <td>upcoded</td>\n",
       "      <td>0.046258</td>\n",
       "    </tr>\n",
       "    <tr>\n",
       "      <th>3</th>\n",
       "      <td>billed_amt_per_unit</td>\n",
       "      <td>0.038594</td>\n",
       "    </tr>\n",
       "    <tr>\n",
       "      <th>16</th>\n",
       "      <td>prov_spec_Clinical_Psychology</td>\n",
       "      <td>0.031534</td>\n",
       "    </tr>\n",
       "    <tr>\n",
       "      <th>6</th>\n",
       "      <td>unbundled_1</td>\n",
       "      <td>0.030429</td>\n",
       "    </tr>\n",
       "    <tr>\n",
       "      <th>9</th>\n",
       "      <td>plc_21</td>\n",
       "      <td>0.028976</td>\n",
       "    </tr>\n",
       "    <tr>\n",
       "      <th>10</th>\n",
       "      <td>plc_22</td>\n",
       "      <td>0.024215</td>\n",
       "    </tr>\n",
       "    <tr>\n",
       "      <th>5</th>\n",
       "      <td>unbundled_0</td>\n",
       "      <td>0.023044</td>\n",
       "    </tr>\n",
       "    <tr>\n",
       "      <th>18</th>\n",
       "      <td>prov_spec_Gastroenterology</td>\n",
       "      <td>0.022470</td>\n",
       "    </tr>\n",
       "    <tr>\n",
       "      <th>8</th>\n",
       "      <td>plc_12</td>\n",
       "      <td>0.016664</td>\n",
       "    </tr>\n",
       "    <tr>\n",
       "      <th>19</th>\n",
       "      <td>prov_spec_Independent_Lab_Non-MD</td>\n",
       "      <td>0.011538</td>\n",
       "    </tr>\n",
       "    <tr>\n",
       "      <th>27</th>\n",
       "      <td>proc_mod_MANUAL_THERAPY_1/&gt;_REGIONS__DISTINCT_...</td>\n",
       "      <td>0.010063</td>\n",
       "    </tr>\n",
       "    <tr>\n",
       "      <th>29</th>\n",
       "      <td>proc_mod_OFFICE_O/P_EST_SF_10-19_MIN__SIGNIFIC...</td>\n",
       "      <td>0.007246</td>\n",
       "    </tr>\n",
       "    <tr>\n",
       "      <th>32</th>\n",
       "      <td>proc_mod_UNKNOWN_PROCEDURE__NEW_EQUIPMENT</td>\n",
       "      <td>0.004607</td>\n",
       "    </tr>\n",
       "    <tr>\n",
       "      <th>14</th>\n",
       "      <td>plc_81</td>\n",
       "      <td>0.002371</td>\n",
       "    </tr>\n",
       "    <tr>\n",
       "      <th>25</th>\n",
       "      <td>proc_mod_HPV_HIGH-RISK_TYPES__REFERENCE_OUTSID...</td>\n",
       "      <td>0.002233</td>\n",
       "    </tr>\n",
       "    <tr>\n",
       "      <th>13</th>\n",
       "      <td>plc_49</td>\n",
       "      <td>0.000843</td>\n",
       "    </tr>\n",
       "    <tr>\n",
       "      <th>28</th>\n",
       "      <td>proc_mod_MEASURE_BLOOD_OXYGEN_LEVEL__DISTINCT_...</td>\n",
       "      <td>0.000808</td>\n",
       "    </tr>\n",
       "    <tr>\n",
       "      <th>23</th>\n",
       "      <td>prov_spec_Pediatrics</td>\n",
       "      <td>0.000387</td>\n",
       "    </tr>\n",
       "    <tr>\n",
       "      <th>0</th>\n",
       "      <td>claim_srvc_days</td>\n",
       "      <td>-0.000175</td>\n",
       "    </tr>\n",
       "    <tr>\n",
       "      <th>2</th>\n",
       "      <td>mod_59_ohe</td>\n",
       "      <td>-0.001941</td>\n",
       "    </tr>\n",
       "    <tr>\n",
       "      <th>31</th>\n",
       "      <td>proc_mod_THER/PROPH/DIAG_INJ_IV_PUSH__DISTINCT...</td>\n",
       "      <td>-0.004679</td>\n",
       "    </tr>\n",
       "    <tr>\n",
       "      <th>12</th>\n",
       "      <td>plc_24</td>\n",
       "      <td>-0.004779</td>\n",
       "    </tr>\n",
       "    <tr>\n",
       "      <th>21</th>\n",
       "      <td>prov_spec_Oncology</td>\n",
       "      <td>-0.005011</td>\n",
       "    </tr>\n",
       "    <tr>\n",
       "      <th>7</th>\n",
       "      <td>plc_11</td>\n",
       "      <td>-0.009788</td>\n",
       "    </tr>\n",
       "    <tr>\n",
       "      <th>26</th>\n",
       "      <td>proc_mod_L_HRT_ARTERY/VENTRICLE_ANGIO__PROFESS...</td>\n",
       "      <td>-0.010293</td>\n",
       "    </tr>\n",
       "    <tr>\n",
       "      <th>22</th>\n",
       "      <td>prov_spec_Pathology</td>\n",
       "      <td>-0.014549</td>\n",
       "    </tr>\n",
       "    <tr>\n",
       "      <th>17</th>\n",
       "      <td>prov_spec_Emergency_Medicine</td>\n",
       "      <td>-0.020053</td>\n",
       "    </tr>\n",
       "    <tr>\n",
       "      <th>30</th>\n",
       "      <td>proc_mod_PER_PM_REEVAL_EST_PAT_INFANT__SIGNIFI...</td>\n",
       "      <td>-0.031711</td>\n",
       "    </tr>\n",
       "    <tr>\n",
       "      <th>24</th>\n",
       "      <td>prov_spec_Special_Provider_Agreement</td>\n",
       "      <td>-0.041889</td>\n",
       "    </tr>\n",
       "    <tr>\n",
       "      <th>11</th>\n",
       "      <td>plc_23</td>\n",
       "      <td>-0.041974</td>\n",
       "    </tr>\n",
       "    <tr>\n",
       "      <th>1</th>\n",
       "      <td>diff_batch_srvc_dt</td>\n",
       "      <td>-0.049467</td>\n",
       "    </tr>\n",
       "    <tr>\n",
       "      <th>15</th>\n",
       "      <td>prov_spec_Chiropractor</td>\n",
       "      <td>-0.066918</td>\n",
       "    </tr>\n",
       "    <tr>\n",
       "      <th>20</th>\n",
       "      <td>prov_spec_Occupational_Therapist</td>\n",
       "      <td>-0.072668</td>\n",
       "    </tr>\n",
       "  </tbody>\n",
       "</table>\n",
       "</div>"
      ],
      "text/plain": [
       "                                              feature  importance\n",
       "34                                          proc_risk    0.726349\n",
       "35                                          prov_risk    0.653009\n",
       "33                                          diag_risk    0.059042\n",
       "4                                             upcoded    0.046258\n",
       "3                                 billed_amt_per_unit    0.038594\n",
       "16                      prov_spec_Clinical_Psychology    0.031534\n",
       "6                                         unbundled_1    0.030429\n",
       "9                                              plc_21    0.028976\n",
       "10                                             plc_22    0.024215\n",
       "5                                         unbundled_0    0.023044\n",
       "18                         prov_spec_Gastroenterology    0.022470\n",
       "8                                              plc_12    0.016664\n",
       "19                   prov_spec_Independent_Lab_Non-MD    0.011538\n",
       "27  proc_mod_MANUAL_THERAPY_1/>_REGIONS__DISTINCT_...    0.010063\n",
       "29  proc_mod_OFFICE_O/P_EST_SF_10-19_MIN__SIGNIFIC...    0.007246\n",
       "32          proc_mod_UNKNOWN_PROCEDURE__NEW_EQUIPMENT    0.004607\n",
       "14                                             plc_81    0.002371\n",
       "25  proc_mod_HPV_HIGH-RISK_TYPES__REFERENCE_OUTSID...    0.002233\n",
       "13                                             plc_49    0.000843\n",
       "28  proc_mod_MEASURE_BLOOD_OXYGEN_LEVEL__DISTINCT_...    0.000808\n",
       "23                               prov_spec_Pediatrics    0.000387\n",
       "0                                     claim_srvc_days   -0.000175\n",
       "2                                          mod_59_ohe   -0.001941\n",
       "31  proc_mod_THER/PROPH/DIAG_INJ_IV_PUSH__DISTINCT...   -0.004679\n",
       "12                                             plc_24   -0.004779\n",
       "21                                 prov_spec_Oncology   -0.005011\n",
       "7                                              plc_11   -0.009788\n",
       "26  proc_mod_L_HRT_ARTERY/VENTRICLE_ANGIO__PROFESS...   -0.010293\n",
       "22                                prov_spec_Pathology   -0.014549\n",
       "17                       prov_spec_Emergency_Medicine   -0.020053\n",
       "30  proc_mod_PER_PM_REEVAL_EST_PAT_INFANT__SIGNIFI...   -0.031711\n",
       "24               prov_spec_Special_Provider_Agreement   -0.041889\n",
       "11                                             plc_23   -0.041974\n",
       "1                                  diff_batch_srvc_dt   -0.049467\n",
       "15                             prov_spec_Chiropractor   -0.066918\n",
       "20                   prov_spec_Occupational_Therapist   -0.072668"
      ]
     },
     "execution_count": 118,
     "metadata": {},
     "output_type": "execute_result"
    }
   ],
   "source": [
    "feature_importance"
   ]
  },
  {
   "cell_type": "code",
   "execution_count": 130,
   "id": "a02bedb3-529a-44fa-a6dd-0a9728f1be42",
   "metadata": {},
   "outputs": [],
   "source": [
    "import matplotlib.pyplot as plt\n",
    "plt.rcParams['figure.figsize'] = [10, 15]"
   ]
  },
  {
   "cell_type": "code",
   "execution_count": null,
   "id": "ee49933e-74fa-4672-aeaf-77801c7fd3e8",
   "metadata": {},
   "outputs": [],
   "source": []
  },
  {
   "cell_type": "code",
   "execution_count": 133,
   "id": "f367da2e-decf-47f5-b172-d7d6db6e208c",
   "metadata": {},
   "outputs": [
    {
     "data": {
      "text/plain": [
       "<Figure size 864x1440 with 0 Axes>"
      ]
     },
     "metadata": {},
     "output_type": "display_data"
    },
    {
     "data": {
      "image/png": "[encoded data removed]",
      "text/plain": [
       "<Figure size 720x1080 with 1 Axes>"
      ]
     },
     "metadata": {
      "needs_background": "light"
     },
     "output_type": "display_data"
    }
   ],
   "source": [
    "# from sklearn.linear_model import LogisticRegression\n",
    "plt.figure(figsize=(12,20))\n",
    "ax = feature_importance.plot.barh(x='feature', y='importance')\n",
    "plt.show()\n",
    "# plt.savefig('test.png', bbox_inches='tight')"
   ]
  },
  {
   "cell_type": "code",
   "execution_count": 120,
   "id": "68ba1641-9b22-421c-acee-02a85a69b6ce",
   "metadata": {},
   "outputs": [
    {
     "data": {
      "text/plain": [
       "<Figure size 432x288 with 0 Axes>"
      ]
     },
     "metadata": {},
     "output_type": "display_data"
    }
   ],
   "source": [
    "plt.savefig('test.png', bbox_inches='tight')"
   ]
  },
  {
   "cell_type": "code",
   "execution_count": null,
   "id": "f07d47ac-23c5-48c7-867a-3ba8f600d78d",
   "metadata": {},
   "outputs": [],
   "source": []
  }
 ],
 "metadata": {
  "kernelspec": {
   "display_name": "Python3.10",
   "language": "python",
   "name": "python310"
  },
  "language_info": {
   "codemirror_mode": {
    "name": "ipython",
    "version": 3
   },
   "file_extension": ".py",
   "mimetype": "text/x-python",
   "name": "python",
   "nbconvert_exporter": "python",
   "pygments_lexer": "ipython3",
   "version": "3.10.9"
  }
 },
 "nbformat": 4,
 "nbformat_minor": 5
}
